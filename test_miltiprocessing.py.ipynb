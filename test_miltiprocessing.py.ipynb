{
 "cells": [
  {
   "cell_type": "code",
   "execution_count": 27,
   "metadata": {},
   "outputs": [],
   "source": [
    "from multiprocessing import Pool\n",
    "import multiprocessing\n",
    "import multiprocessing as mp\n",
    "from tqdm import tqdm\n",
    "import time\n",
    "import numpy as np\n",
    "from itertools import repeat\n",
    "from math import *\n",
    "import os"
   ]
  },
  {
   "cell_type": "markdown",
   "metadata": {},
   "source": [
    "## map and starmap"
   ]
  },
  {
   "cell_type": "code",
   "execution_count": 64,
   "metadata": {},
   "outputs": [],
   "source": [
    "def _foo(my_number1, my_number2, my_number3):\n",
    "    square = my_number1 * my_number2\n",
    "    res = square + my_number3\n",
    "    res2 = 2*res\n",
    "    time.sleep(1)\n",
    "    return res, res2\n",
    "\n"
   ]
  },
  {
   "cell_type": "code",
   "execution_count": 65,
   "metadata": {},
   "outputs": [],
   "source": [
    "def toString(number):\n",
    "    print('to sting {} is ok +:)'.format(number))"
   ]
  },
  {
   "cell_type": "code",
   "execution_count": 66,
   "metadata": {},
   "outputs": [],
   "source": [
    "def toString2(number, int_numb):\n",
    "    #print('to sting {} is ok +:)'.format(number))\n",
    "    #print('int_num {} is still the same'.format(int_numb))\n",
    "    return number, int_numb"
   ]
  },
  {
   "cell_type": "markdown",
   "metadata": {},
   "source": [
    "### starmap_async"
   ]
  },
  {
   "cell_type": "code",
   "execution_count": 78,
   "metadata": {},
   "outputs": [
    {
     "name": "stdout",
     "output_type": "stream",
     "text": [
      "(2, 4)\n"
     ]
    }
   ],
   "source": [
    "if __name__ == '__main__':\n",
    "    with Pool(2) as p:\n",
    "        r = p.starmap_async(_foo, (zip(repeat(1), list(range(5)), list(range(5)))), 4)\n",
    "        results = r.get()\n",
    "        print(results[1])"
   ]
  },
  {
   "cell_type": "code",
   "execution_count": 80,
   "metadata": {},
   "outputs": [
    {
     "name": "stdout",
     "output_type": "stream",
     "text": [
      "0\n",
      "2\n",
      "4\n",
      "6\n",
      "8\n"
     ]
    }
   ],
   "source": [
    "if __name__ == '__main__':\n",
    "    with Pool(2) as p:\n",
    "        r = p.starmap(_foo, (zip(repeat(1), list(range(5)), list(range(5)))), 4)\n",
    "for res in r:\n",
    "    print(res[0])"
   ]
  },
  {
   "cell_type": "code",
   "execution_count": 86,
   "metadata": {},
   "outputs": [
    {
     "name": "stdout",
     "output_type": "stream",
     "text": [
      "without chunksize time r1: 52.0810649394989\n",
      "[(0, 0), (2, 4), (4, 8), (6, 12), (8, 16), (10, 20), (12, 24), (14, 28), (16, 32), (18, 36), (20, 40), (22, 44), (24, 48), (26, 52), (28, 56), (30, 60), (32, 64), (34, 68), (36, 72), (38, 76), (40, 80), (42, 84), (44, 88), (46, 92), (48, 96), (50, 100), (52, 104), (54, 108), (56, 112), (58, 116), (60, 120), (62, 124), (64, 128), (66, 132), (68, 136), (70, 140), (72, 144), (74, 148), (76, 152), (78, 156), (80, 160), (82, 164), (84, 168), (86, 172), (88, 176), (90, 180), (92, 184), (94, 188), (96, 192), (98, 196), (100, 200), (102, 204), (104, 208), (106, 212), (108, 216), (110, 220), (112, 224), (114, 228), (116, 232), (118, 236), (120, 240), (122, 244), (124, 248), (126, 252), (128, 256), (130, 260), (132, 264), (134, 268), (136, 272), (138, 276), (140, 280), (142, 284), (144, 288), (146, 292), (148, 296), (150, 300), (152, 304), (154, 308), (156, 312), (158, 316), (160, 320), (162, 324), (164, 328), (166, 332), (168, 336), (170, 340), (172, 344), (174, 348), (176, 352), (178, 356), (180, 360), (182, 364), (184, 368), (186, 372), (188, 376), (190, 380), (192, 384), (194, 388), (196, 392), (198, 396)]\n",
      "with chunksize time r2: 52.04321098327637\n",
      "[(0, 0), (2, 4), (4, 8), (6, 12), (8, 16), (10, 20), (12, 24), (14, 28), (16, 32), (18, 36), (20, 40), (22, 44), (24, 48), (26, 52), (28, 56), (30, 60), (32, 64), (34, 68), (36, 72), (38, 76), (40, 80), (42, 84), (44, 88), (46, 92), (48, 96), (50, 100), (52, 104), (54, 108), (56, 112), (58, 116), (60, 120), (62, 124), (64, 128), (66, 132), (68, 136), (70, 140), (72, 144), (74, 148), (76, 152), (78, 156), (80, 160), (82, 164), (84, 168), (86, 172), (88, 176), (90, 180), (92, 184), (94, 188), (96, 192), (98, 196), (100, 200), (102, 204), (104, 208), (106, 212), (108, 216), (110, 220), (112, 224), (114, 228), (116, 232), (118, 236), (120, 240), (122, 244), (124, 248), (126, 252), (128, 256), (130, 260), (132, 264), (134, 268), (136, 272), (138, 276), (140, 280), (142, 284), (144, 288), (146, 292), (148, 296), (150, 300), (152, 304), (154, 308), (156, 312), (158, 316), (160, 320), (162, 324), (164, 328), (166, 332), (168, 336), (170, 340), (172, 344), (174, 348), (176, 352), (178, 356), (180, 360), (182, 364), (184, 368), (186, 372), (188, 376), (190, 380), (192, 384), (194, 388), (196, 392), (198, 396)]\n"
     ]
    }
   ],
   "source": [
    "if __name__ == '__main__':\n",
    "   \n",
    "    with Pool(2) as p:\n",
    "        a1 = time.time()\n",
    "        r1 = p.starmap_async(_foo, (zip(repeat(1), list(range(100)), list(range(100)))))\n",
    "        results1 = r1.get()\n",
    "        b1 = time.time()\n",
    "        a2 = time.time()\n",
    "        r2= p.starmap_async(_foo, (zip(repeat(1), list(range(100)), list(range(100)))), 4)\n",
    "        results2 = r2.get()\n",
    "        b2 = time.time()\n",
    "    print(\"without chunksize time r1: {}\".format(b1-a1))\n",
    "    print(results1)\n",
    "    print(\"with chunksize time r2: {}\".format(b2-a2))\n",
    "    print(results2)\n",
    "#     p = [mp.Process(target=toString, args=(results[i],)) for i in range(len(results))]\n",
    "#     for pi in p:\n",
    "#         pi.start()\n",
    "#     for pi in p:\n",
    "#         pi.join()"
   ]
  },
  {
   "cell_type": "markdown",
   "metadata": {},
   "source": [
    "### starmap"
   ]
  },
  {
   "cell_type": "code",
   "execution_count": 59,
   "metadata": {},
   "outputs": [
    {
     "name": "stdout",
     "output_type": "stream",
     "text": [
      "[0, 0]\n",
      "[2, 2]\n",
      "[4, 4]\n",
      "[6, 6]\n",
      "[8, 8]\n",
      "[<Process(Process-136, stopped)>, <Process(Process-137, stopped)>, <Process(Process-138, stopped)>, <Process(Process-139, stopped)>, <Process(Process-140, stopped)>]\n"
     ]
    }
   ],
   "source": [
    "if __name__ == '__main__':\n",
    "    with Pool(2) as p:\n",
    "        r = p.starmap(_foo, (zip(repeat(1), list(range(5)), list(range(5)))))\n",
    "\n",
    "    p = [mp.Process(target=toString2, args=(r[i], r[i])) for i in range(len(r))]\n",
    "    for pi in p:\n",
    "        pi.start()\n",
    "    for pi in p:\n",
    "        pi.join()\n",
    "    print(p)"
   ]
  },
  {
   "cell_type": "markdown",
   "metadata": {},
   "source": [
    "## tqdm and imap"
   ]
  },
  {
   "cell_type": "code",
   "execution_count": 9,
   "metadata": {},
   "outputs": [
    {
     "name": "stderr",
     "output_type": "stream",
     "text": [
      "\n",
      "  0%|          | 0/30 [00:00<?, ?it/s]\u001b[A"
     ]
    },
    {
     "name": "stdout",
     "output_type": "stream",
     "text": [
      "14780\n",
      "14781\n",
      "14780\n",
      "14781\n",
      "14780\n",
      "14781\n",
      "14780\n"
     ]
    },
    {
     "name": "stderr",
     "output_type": "stream",
     "text": [
      "\n",
      "  3%|▎         | 1/30 [00:04<01:56,  4.01s/it]\u001b[A"
     ]
    },
    {
     "name": "stdout",
     "output_type": "stream",
     "text": [
      "14781\n",
      "14780\n",
      "14781\n",
      "14780\n",
      "14781\n",
      "14780\n",
      "14781\n",
      "14780\n"
     ]
    },
    {
     "name": "stderr",
     "output_type": "stream",
     "text": [
      "\n",
      " 30%|███       | 9/30 [00:08<01:02,  2.95s/it]\u001b[A"
     ]
    },
    {
     "name": "stdout",
     "output_type": "stream",
     "text": [
      "14781\n",
      "14780\n",
      "14781\n",
      "14780\n",
      "14781\n",
      "14780\n",
      "14781\n",
      "14780\n"
     ]
    },
    {
     "name": "stderr",
     "output_type": "stream",
     "text": [
      "\n",
      " 57%|█████▋    | 17/30 [00:12<00:28,  2.22s/it]\u001b[A"
     ]
    },
    {
     "name": "stdout",
     "output_type": "stream",
     "text": [
      "14781\n",
      "14780\n",
      "14781\n",
      "14780\n",
      "14781\n",
      "14780\n",
      "14780\n"
     ]
    },
    {
     "name": "stderr",
     "output_type": "stream",
     "text": [
      "\n",
      " 83%|████████▎ | 25/30 [00:16<00:08,  1.70s/it]\u001b[A\n",
      "100%|██████████| 30/30 [00:16<00:00,  1.87it/s]\u001b[A"
     ]
    },
    {
     "name": "stdout",
     "output_type": "stream",
     "text": [
      "[(0, 0), (1, 1), (2, 4), (3, 9), (4, 16), (5, 25), (6, 36), (7, 49), (8, 64), (9, 81), (10, 100), (11, 121), (12, 144), (13, 169), (14, 196), (15, 225), (16, 256), (17, 289), (18, 324), (19, 361), (20, 400), (21, 441), (22, 484), (23, 529), (24, 576), (25, 625), (26, 676), (27, 729), (28, 784), (29, 841)]\n"
     ]
    }
   ],
   "source": [
    "from multiprocessing import Pool\n",
    "import tqdm\n",
    "import time\n",
    "\n",
    "def _foo(my_number):\n",
    "    square = my_number * my_number\n",
    "    time.sleep(1)\n",
    "    print(os.getpid())\n",
    "    return my_number, square \n",
    "\n",
    "if __name__ == '__main__':\n",
    "    with Pool(2) as p:\n",
    "        r = list(tqdm.tqdm(p.imap(_foo, range(30), 4), total=30))\n",
    "        print(r)"
   ]
  },
  {
   "cell_type": "markdown",
   "metadata": {},
   "source": [
    "## pool.apply"
   ]
  },
  {
   "cell_type": "code",
   "execution_count": 4,
   "metadata": {
    "scrolled": true
   },
   "outputs": [
    {
     "name": "stdout",
     "output_type": "stream",
     "text": [
      "(0, 0)\n",
      "(1, 1)\n",
      "(2, 4)\n",
      "(3, 9)\n",
      "(4, 16)\n",
      "(5, 25)\n",
      "(6, 36)\n",
      "(7, 49)\n",
      "(8, 64)\n",
      "(9, 81)\n",
      "(10, 100)\n",
      "(11, 121)\n",
      "(12, 144)\n",
      "(13, 169)\n",
      "(14, 196)\n",
      "(15, 225)\n",
      "(16, 256)\n",
      "(17, 289)\n",
      "(18, 324)\n",
      "(19, 361)\n",
      "(20, 400)\n",
      "(21, 441)\n",
      "(22, 484)\n",
      "(23, 529)\n",
      "(24, 576)\n",
      "(25, 625)\n",
      "(26, 676)\n",
      "(27, 729)\n",
      "(28, 784)\n",
      "(29, 841)\n"
     ]
    }
   ],
   "source": [
    "with Pool(2) as p:\n",
    "    #r1 = list([p.apply(_foo, args=(x,)) for x in range(5)])\n",
    "    r1 = [p.apply(_foo, (x,)) for x in range(30)]\n",
    "# p.join()\n",
    "    for es in r1:\n",
    "        print(es)\n",
    "    "
   ]
  },
  {
   "cell_type": "markdown",
   "metadata": {},
   "source": [
    "## pool.apply_async"
   ]
  },
  {
   "cell_type": "code",
   "execution_count": 11,
   "metadata": {},
   "outputs": [
    {
     "name": "stdout",
     "output_type": "stream",
     "text": [
      "37460\n",
      "37459\n",
      "(0, 0)\n",
      "(1, 1)\n",
      "37460\n",
      "37459\n",
      "(2, 4)\n",
      "(3, 9)\n",
      "37459\n",
      "37460\n",
      "(4, 16)\n",
      "(5, 25)\n",
      "37459\n",
      "37460\n",
      "(6, 36)\n",
      "(7, 49)\n",
      "37459\n",
      "37460\n",
      "(8, 64)\n",
      "(9, 81)\n"
     ]
    }
   ],
   "source": [
    "with Pool(2) as p:\n",
    "    \n",
    "    r1 = [p.apply_async(_foo, args=(x,)) for x in range(10)]\n",
    "    #use .get to get the result.\n",
    "    for res in r1:\n",
    "        print(res.get())\n",
    "p.join()"
   ]
  },
  {
   "cell_type": "markdown",
   "metadata": {},
   "source": [
    "## mp. Process \n",
    "#### no return value"
   ]
  },
  {
   "cell_type": "code",
   "execution_count": 12,
   "metadata": {},
   "outputs": [
    {
     "name": "stdout",
     "output_type": "stream",
     "text": [
      "37480\n",
      "37481\n",
      "37482\n",
      "37483\n",
      "37484\n",
      "37486\n",
      "37487\n",
      "37488\n",
      "37490\n",
      "37489\n"
     ]
    }
   ],
   "source": [
    "res = [mp.Process(target=_foo, args=(x,)) for x in range(10)]\n",
    "for i in res:\n",
    "    i.start()\n",
    "i.join()\n",
    "\n"
   ]
  },
  {
   "cell_type": "markdown",
   "metadata": {},
   "source": [
    "## try new..."
   ]
  },
  {
   "cell_type": "code",
   "execution_count": 13,
   "metadata": {},
   "outputs": [],
   "source": [
    "from urllib.request import *\n",
    "from bs4 import *"
   ]
  },
  {
   "cell_type": "code",
   "execution_count": 14,
   "metadata": {},
   "outputs": [],
   "source": [
    "def GetNameFromURL(url):\n",
    "    content = urlopen(url).read()\n",
    "    soup = BeautifulSoup(content, features=\"lxml\")\n",
    "    print(url)\n",
    "    return_list = []\n",
    "    for j in soup.findAll('a'):\n",
    "        if any(i.isdigit() for i in j['href']):\n",
    "            return_list.append(j['href'])\n",
    "    time.sleep(1)\n",
    "    return return_list "
   ]
  },
  {
   "cell_type": "code",
   "execution_count": 15,
   "metadata": {},
   "outputs": [],
   "source": [
    "def PrintlistLen(one_line):\n",
    "    print(\"id: {}, second function: {}\".format(os.getpid(), one_line))"
   ]
  },
  {
   "cell_type": "code",
   "execution_count": 16,
   "metadata": {},
   "outputs": [],
   "source": [
    "url_list = ['https://nomads.ncdc.noaa.gov/data/ndfd/201311']"
   ]
  },
  {
   "cell_type": "markdown",
   "metadata": {},
   "source": [
    "### map, the result is to pay attention, second dimension"
   ]
  },
  {
   "cell_type": "code",
   "execution_count": 17,
   "metadata": {},
   "outputs": [
    {
     "name": "stdout",
     "output_type": "stream",
     "text": [
      "https://nomads.ncdc.noaa.gov/data/ndfd/201311\n",
      "['20131101/', '20131101/', '20131102/', '20131102/', '20131103/', '20131103/', '20131104/', '20131104/', '20131105/', '20131105/', '20131106/', '20131106/', '20131107/', '20131107/', '20131108/', '20131108/', '20131109/', '20131109/', '20131110/', '20131110/', '20131111/', '20131111/', '20131112/', '20131112/', '20131113/', '20131113/', '20131114/', '20131114/', '20131115/', '20131115/', '20131116/', '20131116/', '20131117/', '20131117/', '20131118/', '20131118/', '20131119/', '20131119/', '20131120/', '20131120/', '20131121/', '20131121/', '20131122/', '20131122/', '20131123/', '20131123/', '20131124/', '20131124/', '20131125/', '20131125/', '20131126/', '20131126/', '20131127/', '20131127/', '20131128/', '20131128/', '20131129/', '20131129/', '20131130/', '20131130/']\n",
      "20131101/\n",
      "20131101/\n",
      "20131102/\n",
      "20131102/\n",
      "20131103/\n",
      "20131103/\n",
      "20131104/\n",
      "20131104/\n",
      "20131105/\n",
      "20131105/\n",
      "20131106/\n",
      "20131106/\n",
      "20131107/\n",
      "20131107/\n",
      "20131108/\n",
      "20131108/\n",
      "20131109/\n",
      "20131109/\n",
      "20131110/\n",
      "20131110/\n",
      "20131111/\n",
      "20131111/\n",
      "20131112/\n",
      "20131112/\n",
      "20131113/\n",
      "20131113/\n",
      "20131114/\n",
      "20131114/\n",
      "20131115/\n",
      "20131115/\n",
      "20131116/\n",
      "20131116/\n",
      "20131117/\n",
      "20131117/\n",
      "20131118/\n",
      "20131118/\n",
      "20131119/\n",
      "20131119/\n",
      "20131120/\n",
      "20131120/\n",
      "20131121/\n",
      "20131121/\n",
      "20131122/\n",
      "20131122/\n",
      "20131123/\n",
      "20131123/\n",
      "20131124/\n",
      "20131124/\n",
      "20131125/\n",
      "20131125/\n",
      "20131126/\n",
      "20131126/\n",
      "20131127/\n",
      "20131127/\n",
      "20131128/\n",
      "20131128/\n",
      "20131129/\n",
      "20131129/\n",
      "20131130/\n",
      "20131130/\n"
     ]
    }
   ],
   "source": [
    "p = mp.Pool(2)\n",
    "#2 times list...pay attention!!!\n",
    "res = p.map(GetNameFromURL, (url_list))\n",
    "print(res[0])\n",
    "for re in res[0]:\n",
    "    print(re)"
   ]
  },
  {
   "cell_type": "markdown",
   "metadata": {},
   "source": [
    "### map after map, without pool.close() or pool.join()"
   ]
  },
  {
   "cell_type": "code",
   "execution_count": 18,
   "metadata": {},
   "outputs": [
    {
     "name": "stdout",
     "output_type": "stream",
     "text": [
      "https://nomads.ncdc.noaa.gov/data/ndfd/201311\n",
      "id: 37512, second function: 20131105/\n",
      "id: 37512, second function: 20131105/\n",
      "id: 37513, second function: 20131101/\n",
      "id: 37512, second function: 20131106/\n",
      "id: 37513, second function: 20131101/\n",
      "id: 37512, second function: 20131106/\n",
      "id: 37513, second function: 20131102/\n",
      "id: 37512, second function: 20131107/\n",
      "id: 37513, second function: 20131102/\n",
      "id: 37512, second function: 20131107/\n",
      "id: 37513, second function: 20131103/\n",
      "id: 37512, second function: 20131108/\n",
      "id: 37513, second function: 20131103/\n",
      "id: 37512, second function: 20131108/\n",
      "id: 37513, second function: 20131104/\n",
      "id: 37512, second function: 20131109/\n",
      "id: 37513, second function: 20131104/\n",
      "id: 37512, second function: 20131109/\n",
      "id: 37513, second function: 20131113/\n",
      "id: 37512, second function: 20131110/\n",
      "id: 37513, second function: 20131113/\n",
      "id: 37512, second function: 20131110/\n",
      "id: 37513, second function: 20131114/\n",
      "id: 37512, second function: 20131111/\n",
      "id: 37513, second function: 20131114/\n",
      "id: 37512, second function: 20131111/\n",
      "id: 37513, second function: 20131115/\n",
      "id: 37512, second function: 20131112/\n",
      "id: 37513, second function: 20131115/\n",
      "id: 37512, second function: 20131112/\n",
      "id: 37513, second function: 20131116/\n",
      "id: 37512, second function: 20131117/\n",
      "id: 37513, second function: 20131116/\n",
      "id: 37512, second function: 20131117/\n",
      "id: 37513, second function: 20131121/\n",
      "id: 37512, second function: 20131118/\n",
      "id: 37513, second function: 20131121/\n",
      "id: 37512, second function: 20131118/\n",
      "id: 37513, second function: 20131122/\n",
      "id: 37512, second function: 20131119/\n",
      "id: 37513, second function: 20131122/\n",
      "id: 37512, second function: 20131119/\n",
      "id: 37513, second function: 20131123/\n",
      "id: 37512, second function: 20131120/\n",
      "id: 37513, second function: 20131123/\n",
      "id: 37512, second function: 20131120/\n",
      "id: 37513, second function: 20131124/\n",
      "id: 37512, second function: 20131125/\n",
      "id: 37513, second function: 20131124/\n",
      "id: 37512, second function: 20131125/\n",
      "id: 37512, second function: 20131126/\n",
      "id: 37513, second function: 20131129/\n",
      "id: 37512, second function: 20131126/\n",
      "id: 37513, second function: 20131129/\n",
      "id: 37512, second function: 20131127/\n",
      "id: 37513, second function: 20131130/\n",
      "id: 37512, second function: 20131127/\n",
      "id: 37513, second function: 20131130/\n",
      "id: 37512, second function: 20131128/\n",
      "id: 37512, second function: 20131128/\n"
     ]
    }
   ],
   "source": [
    "p = mp.Pool(2)\n",
    "#2 times list...pay attention!!!\n",
    "res = p.map(GetNameFromURL, (url_list))\n",
    "#print(res[0][2])\n",
    "res_new = res[0]\n",
    "output = [p.map(PrintlistLen, res_new)]"
   ]
  },
  {
   "cell_type": "markdown",
   "metadata": {},
   "source": [
    "# map in map ???"
   ]
  },
  {
   "cell_type": "code",
   "execution_count": 24,
   "metadata": {},
   "outputs": [],
   "source": [
    "def GetNameFromURL_string(url):\n",
    "    content = urlopen(url).read()\n",
    "    soup = BeautifulSoup(content, features=\"lxml\")\n",
    "    print(url)\n",
    "    return_list = []\n",
    "    for j in soup.findAll('a'):\n",
    "        if any(i.isdigit() for i in j['href']):\n",
    "            return_list.append(j['href'])\n",
    "    time.sleep(1)\n",
    "    p.map(PrintlistLen2, return_list[0])\n",
    "    return return_list "
   ]
  },
  {
   "cell_type": "code",
   "execution_count": 25,
   "metadata": {},
   "outputs": [],
   "source": [
    "def PrintlistLen2(string):\n",
    "    time.sleep(1)\n",
    "    print(\"id: {}, second function: {}\".format(os.getpid(), one_line))"
   ]
  },
  {
   "cell_type": "code",
   "execution_count": 21,
   "metadata": {},
   "outputs": [],
   "source": [
    "p = mp.Pool(2)\n",
    "#res = p.map(GetNameFromURL_string, (url_list))\n"
   ]
  },
  {
   "cell_type": "markdown",
   "metadata": {},
   "source": [
    "## work with url list"
   ]
  },
  {
   "cell_type": "code",
   "execution_count": 22,
   "metadata": {},
   "outputs": [],
   "source": [
    "nw_url_list = ['https://nomads.ncdc.noaa.gov/data/ndfd/201311', 'https://nomads.ncdc.noaa.gov/data/ndfd/201314', \\\n",
    "              'https://nomads.ncdc.noaa.gov/data/ndfd/201320']"
   ]
  },
  {
   "cell_type": "code",
   "execution_count": 33,
   "metadata": {},
   "outputs": [
    {
     "name": "stdout",
     "output_type": "stream",
     "text": [
      "https://nomads.ncdc.noaa.gov/data/ndfd/201311\n"
     ]
    }
   ],
   "source": [
    "p = mp.Pool(2)\n",
    "#2 times list...pay attention!!!\n",
    "try:\n",
    "    res = p.map(GetNameFromURL, (nw_url_list))\n",
    "    #print(res[0][2])\n",
    "    res_new = res[0]\n",
    "    output = [p.map(PrintlistLen, res_new)]\n",
    "    p.close()\n",
    "    p.join()\n",
    "except:\n",
    "    p.terminate()\n",
    "    p.join()\n",
    "    #print(p.is_alive())"
   ]
  },
  {
   "cell_type": "code",
   "execution_count": 27,
   "metadata": {},
   "outputs": [],
   "source": []
  },
  {
   "cell_type": "code",
   "execution_count": null,
   "metadata": {},
   "outputs": [],
   "source": []
  },
  {
   "cell_type": "code",
   "execution_count": 100,
   "metadata": {},
   "outputs": [
    {
     "name": "stdout",
     "output_type": "stream",
     "text": [
      "https://nomads.ncdc.noaa.gov/data/ndfd/201311\n",
      "https://nomads.ncdc.noaa.gov/data/ndfd/201314\n",
      "https://nomads.ncdc.noaa.gov/data/ndfd/201320\n"
     ]
    },
    {
     "ename": "FileNotFoundError",
     "evalue": "[Errno 2] No such file or directory: 'https://nomads.ncdc.noaa.gov/data/ndfd/201311'",
     "output_type": "error",
     "traceback": [
      "\u001b[0;31m---------------------------------------------------------------------------\u001b[0m",
      "\u001b[0;31mRemoteTraceback\u001b[0m                           Traceback (most recent call last)",
      "\u001b[0;31mRemoteTraceback\u001b[0m: \n\"\"\"\nTraceback (most recent call last):\n  File \"/anaconda3/lib/python3.7/multiprocessing/pool.py\", line 121, in worker\n    result = (True, func(*args, **kwds))\n  File \"/anaconda3/lib/python3.7/multiprocessing/pool.py\", line 44, in mapstar\n    return list(map(*args))\n  File \"<ipython-input-100-ed810306addc>\", line 8, in f\n    shutil.copy2(args[1], '/Users/sk/Downloads/jupyter_download/')\n  File \"/anaconda3/lib/python3.7/shutil.py\", line 257, in copy2\n    copyfile(src, dst, follow_symlinks=follow_symlinks)\n  File \"/anaconda3/lib/python3.7/shutil.py\", line 120, in copyfile\n    with open(src, 'rb') as fsrc:\nFileNotFoundError: [Errno 2] No such file or directory: 'https://nomads.ncdc.noaa.gov/data/ndfd/201311'\n\"\"\"",
      "\nThe above exception was the direct cause of the following exception:\n",
      "\u001b[0;31mFileNotFoundError\u001b[0m                         Traceback (most recent call last)",
      "\u001b[0;32m<ipython-input-100-ed810306addc>\u001b[0m in \u001b[0;36m<module>\u001b[0;34m\u001b[0m\n\u001b[1;32m     12\u001b[0m               'https://nomads.ncdc.noaa.gov/data/ndfd/201320']\n\u001b[1;32m     13\u001b[0m     \u001b[0ma\u001b[0m \u001b[0;34m=\u001b[0m \u001b[0mPool\u001b[0m\u001b[0;34m(\u001b[0m\u001b[0;36m2\u001b[0m\u001b[0;34m)\u001b[0m\u001b[0;34m\u001b[0m\u001b[0;34m\u001b[0m\u001b[0m\n\u001b[0;32m---> 14\u001b[0;31m     \u001b[0ma\u001b[0m\u001b[0;34m.\u001b[0m\u001b[0mmap\u001b[0m\u001b[0;34m(\u001b[0m\u001b[0mf\u001b[0m\u001b[0;34m,\u001b[0m \u001b[0mlist\u001b[0m\u001b[0;34m(\u001b[0m\u001b[0menumerate\u001b[0m\u001b[0;34m(\u001b[0m\u001b[0murls\u001b[0m\u001b[0;34m)\u001b[0m\u001b[0;34m)\u001b[0m\u001b[0;34m)\u001b[0m \u001b[0;31m#urls is a list of urls.\u001b[0m\u001b[0;34m\u001b[0m\u001b[0;34m\u001b[0m\u001b[0m\n\u001b[0m",
      "\u001b[0;32m/anaconda3/lib/python3.7/multiprocessing/pool.py\u001b[0m in \u001b[0;36mmap\u001b[0;34m(self, func, iterable, chunksize)\u001b[0m\n\u001b[1;32m    288\u001b[0m         \u001b[0;32min\u001b[0m \u001b[0ma\u001b[0m \u001b[0mlist\u001b[0m \u001b[0mthat\u001b[0m \u001b[0;32mis\u001b[0m \u001b[0mreturned\u001b[0m\u001b[0;34m.\u001b[0m\u001b[0;34m\u001b[0m\u001b[0;34m\u001b[0m\u001b[0m\n\u001b[1;32m    289\u001b[0m         '''\n\u001b[0;32m--> 290\u001b[0;31m         \u001b[0;32mreturn\u001b[0m \u001b[0mself\u001b[0m\u001b[0;34m.\u001b[0m\u001b[0m_map_async\u001b[0m\u001b[0;34m(\u001b[0m\u001b[0mfunc\u001b[0m\u001b[0;34m,\u001b[0m \u001b[0miterable\u001b[0m\u001b[0;34m,\u001b[0m \u001b[0mmapstar\u001b[0m\u001b[0;34m,\u001b[0m \u001b[0mchunksize\u001b[0m\u001b[0;34m)\u001b[0m\u001b[0;34m.\u001b[0m\u001b[0mget\u001b[0m\u001b[0;34m(\u001b[0m\u001b[0;34m)\u001b[0m\u001b[0;34m\u001b[0m\u001b[0;34m\u001b[0m\u001b[0m\n\u001b[0m\u001b[1;32m    291\u001b[0m \u001b[0;34m\u001b[0m\u001b[0m\n\u001b[1;32m    292\u001b[0m     \u001b[0;32mdef\u001b[0m \u001b[0mstarmap\u001b[0m\u001b[0;34m(\u001b[0m\u001b[0mself\u001b[0m\u001b[0;34m,\u001b[0m \u001b[0mfunc\u001b[0m\u001b[0;34m,\u001b[0m \u001b[0miterable\u001b[0m\u001b[0;34m,\u001b[0m \u001b[0mchunksize\u001b[0m\u001b[0;34m=\u001b[0m\u001b[0;32mNone\u001b[0m\u001b[0;34m)\u001b[0m\u001b[0;34m:\u001b[0m\u001b[0;34m\u001b[0m\u001b[0;34m\u001b[0m\u001b[0m\n",
      "\u001b[0;32m/anaconda3/lib/python3.7/multiprocessing/pool.py\u001b[0m in \u001b[0;36mget\u001b[0;34m(self, timeout)\u001b[0m\n\u001b[1;32m    681\u001b[0m             \u001b[0;32mreturn\u001b[0m \u001b[0mself\u001b[0m\u001b[0;34m.\u001b[0m\u001b[0m_value\u001b[0m\u001b[0;34m\u001b[0m\u001b[0;34m\u001b[0m\u001b[0m\n\u001b[1;32m    682\u001b[0m         \u001b[0;32melse\u001b[0m\u001b[0;34m:\u001b[0m\u001b[0;34m\u001b[0m\u001b[0;34m\u001b[0m\u001b[0m\n\u001b[0;32m--> 683\u001b[0;31m             \u001b[0;32mraise\u001b[0m \u001b[0mself\u001b[0m\u001b[0;34m.\u001b[0m\u001b[0m_value\u001b[0m\u001b[0;34m\u001b[0m\u001b[0;34m\u001b[0m\u001b[0m\n\u001b[0m\u001b[1;32m    684\u001b[0m \u001b[0;34m\u001b[0m\u001b[0m\n\u001b[1;32m    685\u001b[0m     \u001b[0;32mdef\u001b[0m \u001b[0m_set\u001b[0m\u001b[0;34m(\u001b[0m\u001b[0mself\u001b[0m\u001b[0;34m,\u001b[0m \u001b[0mi\u001b[0m\u001b[0;34m,\u001b[0m \u001b[0mobj\u001b[0m\u001b[0;34m)\u001b[0m\u001b[0;34m:\u001b[0m\u001b[0;34m\u001b[0m\u001b[0;34m\u001b[0m\u001b[0m\n",
      "\u001b[0;31mFileNotFoundError\u001b[0m: [Errno 2] No such file or directory: 'https://nomads.ncdc.noaa.gov/data/ndfd/201311'"
     ]
    },
    {
     "name": "stderr",
     "output_type": "stream",
     "text": [
      "Process ForkPoolWorker-270:\n",
      "Process ForkPoolWorker-269:\n",
      "Traceback (most recent call last):\n",
      "  File \"/anaconda3/lib/python3.7/multiprocessing/process.py\", line 297, in _bootstrap\n",
      "    self.run()\n",
      "  File \"/anaconda3/lib/python3.7/multiprocessing/process.py\", line 99, in run\n",
      "    self._target(*self._args, **self._kwargs)\n",
      "  File \"/anaconda3/lib/python3.7/multiprocessing/pool.py\", line 110, in worker\n",
      "    task = get()\n",
      "  File \"/anaconda3/lib/python3.7/multiprocessing/queues.py\", line 351, in get\n",
      "    with self._rlock:\n",
      "  File \"/anaconda3/lib/python3.7/multiprocessing/synchronize.py\", line 95, in __enter__\n",
      "    return self._semlock.__enter__()\n",
      "KeyboardInterrupt\n",
      "Traceback (most recent call last):\n",
      "  File \"/anaconda3/lib/python3.7/multiprocessing/process.py\", line 297, in _bootstrap\n",
      "    self.run()\n",
      "  File \"/anaconda3/lib/python3.7/multiprocessing/process.py\", line 99, in run\n",
      "    self._target(*self._args, **self._kwargs)\n",
      "  File \"/anaconda3/lib/python3.7/multiprocessing/pool.py\", line 110, in worker\n",
      "    task = get()\n",
      "  File \"/anaconda3/lib/python3.7/multiprocessing/queues.py\", line 352, in get\n",
      "    res = self._reader.recv_bytes()\n",
      "  File \"/anaconda3/lib/python3.7/multiprocessing/connection.py\", line 216, in recv_bytes\n",
      "    buf = self._recv_bytes(maxlength)\n",
      "  File \"/anaconda3/lib/python3.7/multiprocessing/connection.py\", line 407, in _recv_bytes\n",
      "    buf = self._recv(4)\n",
      "  File \"/anaconda3/lib/python3.7/multiprocessing/connection.py\", line 379, in _recv\n",
      "    chunk = read(handle, remaining)\n",
      "KeyboardInterrupt\n"
     ]
    }
   ],
   "source": [
    "from operator import itemgetter\n",
    "from multiprocessing import Pool\n",
    "import wget\n",
    "\n",
    "\n",
    "def f(args):\n",
    "    print(args[1])\n",
    "    shutil.copy2(args[1], '/Users/sk/Downloads/jupyter_download/')\n",
    "\n",
    "if __name__ == \"__main__\":\n",
    "    urls = ['https://nomads.ncdc.noaa.gov/data/ndfd/201311', 'https://nomads.ncdc.noaa.gov/data/ndfd/201314', \\\n",
    "              'https://nomads.ncdc.noaa.gov/data/ndfd/201320']\n",
    "    a = Pool(2)\n",
    "    a.map(f, list(enumerate(urls))) #urls is a list of urls."
   ]
  },
  {
   "cell_type": "code",
   "execution_count": 97,
   "metadata": {},
   "outputs": [
    {
     "name": "stdout",
     "output_type": "stream",
     "text": [
      "(0, 'https://nomads.ncdc.noaa.gov/data/ndfd/201501/LEEZ98_KWNS_201501011611')\n",
      "(1, 'https://nomads.ncdc.noaa.gov/data/ndfd/201501/LEEZ98_KWNS_201501012010')\n",
      "(2, 'https://nomads.ncdc.noaa.gov/data/ndfd/201501/LEEZ98_KWNS_201501012010')\n"
     ]
    },
    {
     "ename": "TypeError",
     "evalue": "stat: path should be string, bytes, os.PathLike or integer, not _io.BufferedWriter",
     "output_type": "error",
     "traceback": [
      "\u001b[0;31m---------------------------------------------------------------------------\u001b[0m",
      "\u001b[0;31mRemoteTraceback\u001b[0m                           Traceback (most recent call last)",
      "\u001b[0;31mRemoteTraceback\u001b[0m: \n\"\"\"\nTraceback (most recent call last):\n  File \"/anaconda3/lib/python3.7/multiprocessing/pool.py\", line 121, in worker\n    result = (True, func(*args, **kwds))\n  File \"/anaconda3/lib/python3.7/multiprocessing/pool.py\", line 44, in mapstar\n    return list(map(*args))\n  File \"<ipython-input-97-09ba23bcbfa1>\", line 11, in f\n    shutil.copy2(req.raw, f)\n  File \"/anaconda3/lib/python3.7/shutil.py\", line 255, in copy2\n    if os.path.isdir(dst):\n  File \"/anaconda3/lib/python3.7/genericpath.py\", line 42, in isdir\n    st = os.stat(s)\nTypeError: stat: path should be string, bytes, os.PathLike or integer, not _io.BufferedWriter\n\"\"\"",
      "\nThe above exception was the direct cause of the following exception:\n",
      "\u001b[0;31mTypeError\u001b[0m                                 Traceback (most recent call last)",
      "\u001b[0;32m<ipython-input-97-09ba23bcbfa1>\u001b[0m in \u001b[0;36m<module>\u001b[0;34m\u001b[0m\n\u001b[1;32m     15\u001b[0m               'https://nomads.ncdc.noaa.gov/data/ndfd/201501/LEEZ98_KWNS_201501012010']\n\u001b[1;32m     16\u001b[0m     \u001b[0ma\u001b[0m \u001b[0;34m=\u001b[0m \u001b[0mPool\u001b[0m\u001b[0;34m(\u001b[0m\u001b[0;36m2\u001b[0m\u001b[0;34m)\u001b[0m\u001b[0;34m\u001b[0m\u001b[0;34m\u001b[0m\u001b[0m\n\u001b[0;32m---> 17\u001b[0;31m     \u001b[0ma\u001b[0m\u001b[0;34m.\u001b[0m\u001b[0mmap\u001b[0m\u001b[0;34m(\u001b[0m\u001b[0mf\u001b[0m\u001b[0;34m,\u001b[0m \u001b[0menumerate\u001b[0m\u001b[0;34m(\u001b[0m\u001b[0murls\u001b[0m\u001b[0;34m)\u001b[0m\u001b[0;34m)\u001b[0m  \u001b[0;31m# urls is a list of urls.\u001b[0m\u001b[0;34m\u001b[0m\u001b[0;34m\u001b[0m\u001b[0m\n\u001b[0m",
      "\u001b[0;32m/anaconda3/lib/python3.7/multiprocessing/pool.py\u001b[0m in \u001b[0;36mmap\u001b[0;34m(self, func, iterable, chunksize)\u001b[0m\n\u001b[1;32m    288\u001b[0m         \u001b[0;32min\u001b[0m \u001b[0ma\u001b[0m \u001b[0mlist\u001b[0m \u001b[0mthat\u001b[0m \u001b[0;32mis\u001b[0m \u001b[0mreturned\u001b[0m\u001b[0;34m.\u001b[0m\u001b[0;34m\u001b[0m\u001b[0;34m\u001b[0m\u001b[0m\n\u001b[1;32m    289\u001b[0m         '''\n\u001b[0;32m--> 290\u001b[0;31m         \u001b[0;32mreturn\u001b[0m \u001b[0mself\u001b[0m\u001b[0;34m.\u001b[0m\u001b[0m_map_async\u001b[0m\u001b[0;34m(\u001b[0m\u001b[0mfunc\u001b[0m\u001b[0;34m,\u001b[0m \u001b[0miterable\u001b[0m\u001b[0;34m,\u001b[0m \u001b[0mmapstar\u001b[0m\u001b[0;34m,\u001b[0m \u001b[0mchunksize\u001b[0m\u001b[0;34m)\u001b[0m\u001b[0;34m.\u001b[0m\u001b[0mget\u001b[0m\u001b[0;34m(\u001b[0m\u001b[0;34m)\u001b[0m\u001b[0;34m\u001b[0m\u001b[0;34m\u001b[0m\u001b[0m\n\u001b[0m\u001b[1;32m    291\u001b[0m \u001b[0;34m\u001b[0m\u001b[0m\n\u001b[1;32m    292\u001b[0m     \u001b[0;32mdef\u001b[0m \u001b[0mstarmap\u001b[0m\u001b[0;34m(\u001b[0m\u001b[0mself\u001b[0m\u001b[0;34m,\u001b[0m \u001b[0mfunc\u001b[0m\u001b[0;34m,\u001b[0m \u001b[0miterable\u001b[0m\u001b[0;34m,\u001b[0m \u001b[0mchunksize\u001b[0m\u001b[0;34m=\u001b[0m\u001b[0;32mNone\u001b[0m\u001b[0;34m)\u001b[0m\u001b[0;34m:\u001b[0m\u001b[0;34m\u001b[0m\u001b[0;34m\u001b[0m\u001b[0m\n",
      "\u001b[0;32m/anaconda3/lib/python3.7/multiprocessing/pool.py\u001b[0m in \u001b[0;36mget\u001b[0;34m(self, timeout)\u001b[0m\n\u001b[1;32m    681\u001b[0m             \u001b[0;32mreturn\u001b[0m \u001b[0mself\u001b[0m\u001b[0;34m.\u001b[0m\u001b[0m_value\u001b[0m\u001b[0;34m\u001b[0m\u001b[0;34m\u001b[0m\u001b[0m\n\u001b[1;32m    682\u001b[0m         \u001b[0;32melse\u001b[0m\u001b[0;34m:\u001b[0m\u001b[0;34m\u001b[0m\u001b[0;34m\u001b[0m\u001b[0m\n\u001b[0;32m--> 683\u001b[0;31m             \u001b[0;32mraise\u001b[0m \u001b[0mself\u001b[0m\u001b[0;34m.\u001b[0m\u001b[0m_value\u001b[0m\u001b[0;34m\u001b[0m\u001b[0;34m\u001b[0m\u001b[0m\n\u001b[0m\u001b[1;32m    684\u001b[0m \u001b[0;34m\u001b[0m\u001b[0m\n\u001b[1;32m    685\u001b[0m     \u001b[0;32mdef\u001b[0m \u001b[0m_set\u001b[0m\u001b[0;34m(\u001b[0m\u001b[0mself\u001b[0m\u001b[0;34m,\u001b[0m \u001b[0mi\u001b[0m\u001b[0;34m,\u001b[0m \u001b[0mobj\u001b[0m\u001b[0;34m)\u001b[0m\u001b[0;34m:\u001b[0m\u001b[0;34m\u001b[0m\u001b[0;34m\u001b[0m\u001b[0m\n",
      "\u001b[0;31mTypeError\u001b[0m: stat: path should be string, bytes, os.PathLike or integer, not _io.BufferedWriter"
     ]
    }
   ],
   "source": [
    "from multiprocessing import Pool\n",
    "\n",
    "import shutil\n",
    "import requests\n",
    "\n",
    "\n",
    "def f(args):\n",
    "    print(args)\n",
    "    req = requests.get(args[1], stream=True)\n",
    "    with open('/Users/sk/Downloads/jupyter_download/' + str(args[0]), 'wb') as f:\n",
    "        shutil.copy2(req.raw, f)\n",
    "\n",
    "if __name__ == \"__main__\":\n",
    "    urls = ['https://nomads.ncdc.noaa.gov/data/ndfd/201501/LEEZ98_KWNS_201501011611', 'https://nomads.ncdc.noaa.gov/data/ndfd/201501/LEEZ98_KWNS_201501012010', \\\n",
    "              'https://nomads.ncdc.noaa.gov/data/ndfd/201501/LEEZ98_KWNS_201501012010']\n",
    "    a = Pool(2)\n",
    "    a.map(f, enumerate(urls))  # urls is a list of urls."
   ]
  },
  {
   "cell_type": "code",
   "execution_count": 122,
   "metadata": {},
   "outputs": [],
   "source": [
    "from urllib.request import *\n",
    "from bs4 import *\n",
    "\n",
    "def Download(url, path):\n",
    "    content = urlopen(url).read()\n",
    "    soup_new = BeautifulSoup(content, features=\"lxml\")\n",
    "    for j in soup_new.findAll('a'):\n",
    "        if j['href'][:6] == 'LEEZ98':\n",
    "            file_url = url + j['href']\n",
    "            file_path_name = path + '/' + j['href'] + '.dms'\n",
    "            downloadfile = URLopener()\n",
    "            downloadfile.retrieve(file_url, file_path_name)"
   ]
  },
  {
   "cell_type": "code",
   "execution_count": 124,
   "metadata": {},
   "outputs": [
    {
     "name": "stdout",
     "output_type": "stream",
     "text": [
      "https://nomads.ncdc.noaa.gov/data/ndfd/201501/20150101\n"
     ]
    },
    {
     "name": "stderr",
     "output_type": "stream",
     "text": [
      "Exception in thread Thread-258:\n",
      "Traceback (most recent call last):\n",
      "  File \"/anaconda3/lib/python3.7/threading.py\", line 917, in _bootstrap_inner\n",
      "    self.run()\n",
      "  File \"/anaconda3/lib/python3.7/threading.py\", line 865, in run\n",
      "    self._target(*self._args, **self._kwargs)\n",
      "  File \"/anaconda3/lib/python3.7/multiprocessing/pool.py\", line 496, in _handle_results\n",
      "    task = get()\n",
      "  File \"/anaconda3/lib/python3.7/multiprocessing/connection.py\", line 251, in recv\n",
      "    return _ForkingPickler.loads(buf.getbuffer())\n",
      "TypeError: __init__() missing 5 required positional arguments: 'url', 'code', 'msg', 'hdrs', and 'fp'\n",
      "\n",
      "Process ForkPoolWorker-315:\n",
      "Process ForkPoolWorker-316:\n",
      "Traceback (most recent call last):\n",
      "  File \"/anaconda3/lib/python3.7/multiprocessing/process.py\", line 297, in _bootstrap\n",
      "    self.run()\n",
      "  File \"/anaconda3/lib/python3.7/multiprocessing/process.py\", line 99, in run\n",
      "    self._target(*self._args, **self._kwargs)\n",
      "  File \"/anaconda3/lib/python3.7/multiprocessing/pool.py\", line 110, in worker\n",
      "    task = get()\n",
      "  File \"/anaconda3/lib/python3.7/multiprocessing/queues.py\", line 352, in get\n",
      "    res = self._reader.recv_bytes()\n",
      "  File \"/anaconda3/lib/python3.7/multiprocessing/connection.py\", line 216, in recv_bytes\n",
      "    buf = self._recv_bytes(maxlength)\n",
      "  File \"/anaconda3/lib/python3.7/multiprocessing/connection.py\", line 407, in _recv_bytes\n",
      "    buf = self._recv(4)\n",
      "  File \"/anaconda3/lib/python3.7/multiprocessing/connection.py\", line 379, in _recv\n",
      "    chunk = read(handle, remaining)\n",
      "KeyboardInterrupt\n",
      "Traceback (most recent call last):\n",
      "  File \"/anaconda3/lib/python3.7/multiprocessing/process.py\", line 297, in _bootstrap\n",
      "    self.run()\n",
      "  File \"/anaconda3/lib/python3.7/multiprocessing/process.py\", line 99, in run\n",
      "    self._target(*self._args, **self._kwargs)\n",
      "  File \"/anaconda3/lib/python3.7/multiprocessing/pool.py\", line 110, in worker\n",
      "    task = get()\n",
      "  File \"/anaconda3/lib/python3.7/multiprocessing/queues.py\", line 351, in get\n",
      "    with self._rlock:\n",
      "  File \"/anaconda3/lib/python3.7/multiprocessing/synchronize.py\", line 95, in __enter__\n",
      "    return self._semlock.__enter__()\n",
      "KeyboardInterrupt\n"
     ]
    },
    {
     "ename": "KeyboardInterrupt",
     "evalue": "",
     "output_type": "error",
     "traceback": [
      "\u001b[0;31m---------------------------------------------------------------------------\u001b[0m",
      "\u001b[0;31mKeyboardInterrupt\u001b[0m                         Traceback (most recent call last)",
      "\u001b[0;32m<ipython-input-124-0cb4934d18c2>\u001b[0m in \u001b[0;36m<module>\u001b[0;34m\u001b[0m\n\u001b[1;32m      4\u001b[0m     \u001b[0ma\u001b[0m \u001b[0;34m=\u001b[0m \u001b[0mPool\u001b[0m\u001b[0;34m(\u001b[0m\u001b[0;36m2\u001b[0m\u001b[0;34m)\u001b[0m\u001b[0;34m\u001b[0m\u001b[0;34m\u001b[0m\u001b[0m\n\u001b[1;32m      5\u001b[0m     \u001b[0mpath\u001b[0m \u001b[0;34m=\u001b[0m \u001b[0;34m\"/Users/sk/Downloads/jupyter_download/\"\u001b[0m\u001b[0;34m\u001b[0m\u001b[0;34m\u001b[0m\u001b[0m\n\u001b[0;32m----> 6\u001b[0;31m     \u001b[0mr\u001b[0m \u001b[0;34m=\u001b[0m \u001b[0;34m[\u001b[0m\u001b[0ma\u001b[0m\u001b[0;34m.\u001b[0m\u001b[0mstarmap\u001b[0m\u001b[0;34m(\u001b[0m\u001b[0mDownload\u001b[0m\u001b[0;34m,\u001b[0m \u001b[0mzip\u001b[0m\u001b[0;34m(\u001b[0m\u001b[0murls\u001b[0m\u001b[0;34m,\u001b[0m \u001b[0mpath\u001b[0m\u001b[0;34m)\u001b[0m\u001b[0;34m)\u001b[0m\u001b[0;34m]\u001b[0m \u001b[0;31m# urls is a list of urls.\u001b[0m\u001b[0;34m\u001b[0m\u001b[0;34m\u001b[0m\u001b[0m\n\u001b[0m",
      "\u001b[0;32m/anaconda3/lib/python3.7/multiprocessing/pool.py\u001b[0m in \u001b[0;36mstarmap\u001b[0;34m(self, func, iterable, chunksize)\u001b[0m\n\u001b[1;32m    296\u001b[0m         \u001b[0;31m`\u001b[0m\u001b[0mfunc\u001b[0m\u001b[0;31m`\u001b[0m \u001b[0;32mand\u001b[0m \u001b[0;34m(\u001b[0m\u001b[0ma\u001b[0m\u001b[0;34m,\u001b[0m \u001b[0mb\u001b[0m\u001b[0;34m)\u001b[0m \u001b[0mbecomes\u001b[0m \u001b[0mfunc\u001b[0m\u001b[0;34m(\u001b[0m\u001b[0ma\u001b[0m\u001b[0;34m,\u001b[0m \u001b[0mb\u001b[0m\u001b[0;34m)\u001b[0m\u001b[0;34m.\u001b[0m\u001b[0;34m\u001b[0m\u001b[0;34m\u001b[0m\u001b[0m\n\u001b[1;32m    297\u001b[0m         '''\n\u001b[0;32m--> 298\u001b[0;31m         \u001b[0;32mreturn\u001b[0m \u001b[0mself\u001b[0m\u001b[0;34m.\u001b[0m\u001b[0m_map_async\u001b[0m\u001b[0;34m(\u001b[0m\u001b[0mfunc\u001b[0m\u001b[0;34m,\u001b[0m \u001b[0miterable\u001b[0m\u001b[0;34m,\u001b[0m \u001b[0mstarmapstar\u001b[0m\u001b[0;34m,\u001b[0m \u001b[0mchunksize\u001b[0m\u001b[0;34m)\u001b[0m\u001b[0;34m.\u001b[0m\u001b[0mget\u001b[0m\u001b[0;34m(\u001b[0m\u001b[0;34m)\u001b[0m\u001b[0;34m\u001b[0m\u001b[0;34m\u001b[0m\u001b[0m\n\u001b[0m\u001b[1;32m    299\u001b[0m \u001b[0;34m\u001b[0m\u001b[0m\n\u001b[1;32m    300\u001b[0m     def starmap_async(self, func, iterable, chunksize=None, callback=None,\n",
      "\u001b[0;32m/anaconda3/lib/python3.7/multiprocessing/pool.py\u001b[0m in \u001b[0;36mget\u001b[0;34m(self, timeout)\u001b[0m\n\u001b[1;32m    675\u001b[0m \u001b[0;34m\u001b[0m\u001b[0m\n\u001b[1;32m    676\u001b[0m     \u001b[0;32mdef\u001b[0m \u001b[0mget\u001b[0m\u001b[0;34m(\u001b[0m\u001b[0mself\u001b[0m\u001b[0;34m,\u001b[0m \u001b[0mtimeout\u001b[0m\u001b[0;34m=\u001b[0m\u001b[0;32mNone\u001b[0m\u001b[0;34m)\u001b[0m\u001b[0;34m:\u001b[0m\u001b[0;34m\u001b[0m\u001b[0;34m\u001b[0m\u001b[0m\n\u001b[0;32m--> 677\u001b[0;31m         \u001b[0mself\u001b[0m\u001b[0;34m.\u001b[0m\u001b[0mwait\u001b[0m\u001b[0;34m(\u001b[0m\u001b[0mtimeout\u001b[0m\u001b[0;34m)\u001b[0m\u001b[0;34m\u001b[0m\u001b[0;34m\u001b[0m\u001b[0m\n\u001b[0m\u001b[1;32m    678\u001b[0m         \u001b[0;32mif\u001b[0m \u001b[0;32mnot\u001b[0m \u001b[0mself\u001b[0m\u001b[0;34m.\u001b[0m\u001b[0mready\u001b[0m\u001b[0;34m(\u001b[0m\u001b[0;34m)\u001b[0m\u001b[0;34m:\u001b[0m\u001b[0;34m\u001b[0m\u001b[0;34m\u001b[0m\u001b[0m\n\u001b[1;32m    679\u001b[0m             \u001b[0;32mraise\u001b[0m \u001b[0mTimeoutError\u001b[0m\u001b[0;34m\u001b[0m\u001b[0;34m\u001b[0m\u001b[0m\n",
      "\u001b[0;32m/anaconda3/lib/python3.7/multiprocessing/pool.py\u001b[0m in \u001b[0;36mwait\u001b[0;34m(self, timeout)\u001b[0m\n\u001b[1;32m    672\u001b[0m \u001b[0;34m\u001b[0m\u001b[0m\n\u001b[1;32m    673\u001b[0m     \u001b[0;32mdef\u001b[0m \u001b[0mwait\u001b[0m\u001b[0;34m(\u001b[0m\u001b[0mself\u001b[0m\u001b[0;34m,\u001b[0m \u001b[0mtimeout\u001b[0m\u001b[0;34m=\u001b[0m\u001b[0;32mNone\u001b[0m\u001b[0;34m)\u001b[0m\u001b[0;34m:\u001b[0m\u001b[0;34m\u001b[0m\u001b[0;34m\u001b[0m\u001b[0m\n\u001b[0;32m--> 674\u001b[0;31m         \u001b[0mself\u001b[0m\u001b[0;34m.\u001b[0m\u001b[0m_event\u001b[0m\u001b[0;34m.\u001b[0m\u001b[0mwait\u001b[0m\u001b[0;34m(\u001b[0m\u001b[0mtimeout\u001b[0m\u001b[0;34m)\u001b[0m\u001b[0;34m\u001b[0m\u001b[0;34m\u001b[0m\u001b[0m\n\u001b[0m\u001b[1;32m    675\u001b[0m \u001b[0;34m\u001b[0m\u001b[0m\n\u001b[1;32m    676\u001b[0m     \u001b[0;32mdef\u001b[0m \u001b[0mget\u001b[0m\u001b[0;34m(\u001b[0m\u001b[0mself\u001b[0m\u001b[0;34m,\u001b[0m \u001b[0mtimeout\u001b[0m\u001b[0;34m=\u001b[0m\u001b[0;32mNone\u001b[0m\u001b[0;34m)\u001b[0m\u001b[0;34m:\u001b[0m\u001b[0;34m\u001b[0m\u001b[0;34m\u001b[0m\u001b[0m\n",
      "\u001b[0;32m/anaconda3/lib/python3.7/threading.py\u001b[0m in \u001b[0;36mwait\u001b[0;34m(self, timeout)\u001b[0m\n\u001b[1;32m    550\u001b[0m             \u001b[0msignaled\u001b[0m \u001b[0;34m=\u001b[0m \u001b[0mself\u001b[0m\u001b[0;34m.\u001b[0m\u001b[0m_flag\u001b[0m\u001b[0;34m\u001b[0m\u001b[0;34m\u001b[0m\u001b[0m\n\u001b[1;32m    551\u001b[0m             \u001b[0;32mif\u001b[0m \u001b[0;32mnot\u001b[0m \u001b[0msignaled\u001b[0m\u001b[0;34m:\u001b[0m\u001b[0;34m\u001b[0m\u001b[0;34m\u001b[0m\u001b[0m\n\u001b[0;32m--> 552\u001b[0;31m                 \u001b[0msignaled\u001b[0m \u001b[0;34m=\u001b[0m \u001b[0mself\u001b[0m\u001b[0;34m.\u001b[0m\u001b[0m_cond\u001b[0m\u001b[0;34m.\u001b[0m\u001b[0mwait\u001b[0m\u001b[0;34m(\u001b[0m\u001b[0mtimeout\u001b[0m\u001b[0;34m)\u001b[0m\u001b[0;34m\u001b[0m\u001b[0;34m\u001b[0m\u001b[0m\n\u001b[0m\u001b[1;32m    553\u001b[0m             \u001b[0;32mreturn\u001b[0m \u001b[0msignaled\u001b[0m\u001b[0;34m\u001b[0m\u001b[0;34m\u001b[0m\u001b[0m\n\u001b[1;32m    554\u001b[0m \u001b[0;34m\u001b[0m\u001b[0m\n",
      "\u001b[0;32m/anaconda3/lib/python3.7/threading.py\u001b[0m in \u001b[0;36mwait\u001b[0;34m(self, timeout)\u001b[0m\n\u001b[1;32m    294\u001b[0m         \u001b[0;32mtry\u001b[0m\u001b[0;34m:\u001b[0m    \u001b[0;31m# restore state no matter what (e.g., KeyboardInterrupt)\u001b[0m\u001b[0;34m\u001b[0m\u001b[0;34m\u001b[0m\u001b[0m\n\u001b[1;32m    295\u001b[0m             \u001b[0;32mif\u001b[0m \u001b[0mtimeout\u001b[0m \u001b[0;32mis\u001b[0m \u001b[0;32mNone\u001b[0m\u001b[0;34m:\u001b[0m\u001b[0;34m\u001b[0m\u001b[0;34m\u001b[0m\u001b[0m\n\u001b[0;32m--> 296\u001b[0;31m                 \u001b[0mwaiter\u001b[0m\u001b[0;34m.\u001b[0m\u001b[0macquire\u001b[0m\u001b[0;34m(\u001b[0m\u001b[0;34m)\u001b[0m\u001b[0;34m\u001b[0m\u001b[0;34m\u001b[0m\u001b[0m\n\u001b[0m\u001b[1;32m    297\u001b[0m                 \u001b[0mgotit\u001b[0m \u001b[0;34m=\u001b[0m \u001b[0;32mTrue\u001b[0m\u001b[0;34m\u001b[0m\u001b[0;34m\u001b[0m\u001b[0m\n\u001b[1;32m    298\u001b[0m             \u001b[0;32melse\u001b[0m\u001b[0;34m:\u001b[0m\u001b[0;34m\u001b[0m\u001b[0;34m\u001b[0m\u001b[0m\n",
      "\u001b[0;31mKeyboardInterrupt\u001b[0m: "
     ]
    }
   ],
   "source": [
    "if __name__ == \"__main__\":\n",
    "    urls = ['https://nomads.ncdc.noaa.gov/data/ndfd/201501/20150101']\n",
    "    print(urls[0])\n",
    "    a = Pool(2)\n",
    "    path = \"/Users/sk/Downloads/jupyter_download/\"\n",
    "    r = [a.starmap(Download, zip(urls, path))] # urls is a list of urls."
   ]
  },
  {
   "cell_type": "code",
   "execution_count": null,
   "metadata": {},
   "outputs": [],
   "source": []
  }
 ],
 "metadata": {
  "kernelspec": {
   "display_name": "Python 3",
   "language": "python",
   "name": "python3"
  },
  "language_info": {
   "codemirror_mode": {
    "name": "ipython",
    "version": 3
   },
   "file_extension": ".py",
   "mimetype": "text/x-python",
   "name": "python",
   "nbconvert_exporter": "python",
   "pygments_lexer": "ipython3",
   "version": "3.7.1"
  }
 },
 "nbformat": 4,
 "nbformat_minor": 2
}
