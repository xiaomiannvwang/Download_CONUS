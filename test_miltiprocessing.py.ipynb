{
 "cells": [
  {
   "cell_type": "code",
   "execution_count": 27,
   "metadata": {},
   "outputs": [],
   "source": [
    "from multiprocessing import Pool\n",
    "import multiprocessing\n",
    "import multiprocessing as mp\n",
    "from tqdm import tqdm\n",
    "import time\n",
    "import numpy as np\n",
    "from itertools import repeat\n",
    "from math import *\n",
    "import os"
   ]
  },
  {
   "cell_type": "markdown",
   "metadata": {},
   "source": [
    "## map and starmap"
   ]
  },
  {
   "cell_type": "code",
   "execution_count": 64,
   "metadata": {},
   "outputs": [],
   "source": [
    "def _foo(my_number1, my_number2, my_number3):\n",
    "    square = my_number1 * my_number2\n",
    "    res = square + my_number3\n",
    "    res2 = 2*res\n",
    "    time.sleep(1)\n",
    "    return res, res2\n",
    "\n"
   ]
  },
  {
   "cell_type": "code",
   "execution_count": 65,
   "metadata": {},
   "outputs": [],
   "source": [
    "def toString(number):\n",
    "    print('to sting {} is ok +:)'.format(number))"
   ]
  },
  {
   "cell_type": "code",
   "execution_count": 66,
   "metadata": {},
   "outputs": [],
   "source": [
    "def toString2(number, int_numb):\n",
    "    #print('to sting {} is ok +:)'.format(number))\n",
    "    #print('int_num {} is still the same'.format(int_numb))\n",
    "    return number, int_numb"
   ]
  },
  {
   "cell_type": "markdown",
   "metadata": {},
   "source": [
    "### starmap_async"
   ]
  },
  {
   "cell_type": "code",
   "execution_count": 69,
   "metadata": {},
   "outputs": [
    {
     "name": "stdout",
     "output_type": "stream",
     "text": [
      "(2, 4)\n"
     ]
    }
   ],
   "source": [
    "if __name__ == '__main__':\n",
    "    with Pool(2) as p:\n",
    "        r = p.starmap_async(_foo, (zip(repeat(1), list(range(5)), list(range(5)))))\n",
    "        results = r.get()\n",
    "        print(results[1])"
   ]
  },
  {
   "cell_type": "code",
   "execution_count": 77,
   "metadata": {},
   "outputs": [
    {
     "name": "stdout",
     "output_type": "stream",
     "text": [
      "0\n",
      "2\n",
      "4\n",
      "6\n",
      "8\n"
     ]
    }
   ],
   "source": [
    "if __name__ == '__main__':\n",
    "    with Pool(2) as p:\n",
    "        r = p.starmap(_foo, (zip(repeat(1), list(range(5)), list(range(5)))))\n",
    "for res in r:\n",
    "    print(res[0])"
   ]
  },
  {
   "cell_type": "code",
   "execution_count": 61,
   "metadata": {},
   "outputs": [
    {
     "name": "stdout",
     "output_type": "stream",
     "text": [
      "to sting 0 is ok +:)\n",
      "to sting 2 is ok +:)\n",
      "to sting 4 is ok +:)\n",
      "to sting 6 is ok +:)\n",
      "to sting 8 is ok +:)\n"
     ]
    }
   ],
   "source": [
    "if __name__ == '__main__':\n",
    "    with Pool(2) as p:\n",
    "        r = p.starmap_async(_foo, (zip(repeat(1), list(range(5)), list(range(5)))))\n",
    "        results = r.get()\n",
    "    p = [mp.Process(target=toString, args=(results[i],)) for i in range(len(results))]\n",
    "    for pi in p:\n",
    "        pi.start()\n",
    "    for pi in p:\n",
    "        pi.join()"
   ]
  },
  {
   "cell_type": "markdown",
   "metadata": {},
   "source": [
    "### starmap"
   ]
  },
  {
   "cell_type": "code",
   "execution_count": 59,
   "metadata": {},
   "outputs": [
    {
     "name": "stdout",
     "output_type": "stream",
     "text": [
      "[0, 0]\n",
      "[2, 2]\n",
      "[4, 4]\n",
      "[6, 6]\n",
      "[8, 8]\n",
      "[<Process(Process-136, stopped)>, <Process(Process-137, stopped)>, <Process(Process-138, stopped)>, <Process(Process-139, stopped)>, <Process(Process-140, stopped)>]\n"
     ]
    }
   ],
   "source": [
    "if __name__ == '__main__':\n",
    "    with Pool(2) as p:\n",
    "        r = p.starmap(_foo, (zip(repeat(1), list(range(5)), list(range(5)))))\n",
    "\n",
    "    p = [mp.Process(target=toString2, args=(r[i], r[i])) for i in range(len(r))]\n",
    "    for pi in p:\n",
    "        pi.start()\n",
    "    for pi in p:\n",
    "        pi.join()\n",
    "    print(p)"
   ]
  },
  {
   "cell_type": "markdown",
   "metadata": {},
   "source": [
    "## tqdm and imap"
   ]
  },
  {
   "cell_type": "code",
   "execution_count": 9,
   "metadata": {},
   "outputs": [
    {
     "name": "stderr",
     "output_type": "stream",
     "text": [
      "\n",
      "  0%|          | 0/30 [00:00<?, ?it/s]\u001b[A"
     ]
    },
    {
     "name": "stdout",
     "output_type": "stream",
     "text": [
      "14780\n",
      "14781\n",
      "14780\n",
      "14781\n",
      "14780\n",
      "14781\n",
      "14780\n"
     ]
    },
    {
     "name": "stderr",
     "output_type": "stream",
     "text": [
      "\n",
      "  3%|▎         | 1/30 [00:04<01:56,  4.01s/it]\u001b[A"
     ]
    },
    {
     "name": "stdout",
     "output_type": "stream",
     "text": [
      "14781\n",
      "14780\n",
      "14781\n",
      "14780\n",
      "14781\n",
      "14780\n",
      "14781\n",
      "14780\n"
     ]
    },
    {
     "name": "stderr",
     "output_type": "stream",
     "text": [
      "\n",
      " 30%|███       | 9/30 [00:08<01:02,  2.95s/it]\u001b[A"
     ]
    },
    {
     "name": "stdout",
     "output_type": "stream",
     "text": [
      "14781\n",
      "14780\n",
      "14781\n",
      "14780\n",
      "14781\n",
      "14780\n",
      "14781\n",
      "14780\n"
     ]
    },
    {
     "name": "stderr",
     "output_type": "stream",
     "text": [
      "\n",
      " 57%|█████▋    | 17/30 [00:12<00:28,  2.22s/it]\u001b[A"
     ]
    },
    {
     "name": "stdout",
     "output_type": "stream",
     "text": [
      "14781\n",
      "14780\n",
      "14781\n",
      "14780\n",
      "14781\n",
      "14780\n",
      "14780\n"
     ]
    },
    {
     "name": "stderr",
     "output_type": "stream",
     "text": [
      "\n",
      " 83%|████████▎ | 25/30 [00:16<00:08,  1.70s/it]\u001b[A\n",
      "100%|██████████| 30/30 [00:16<00:00,  1.87it/s]\u001b[A"
     ]
    },
    {
     "name": "stdout",
     "output_type": "stream",
     "text": [
      "[(0, 0), (1, 1), (2, 4), (3, 9), (4, 16), (5, 25), (6, 36), (7, 49), (8, 64), (9, 81), (10, 100), (11, 121), (12, 144), (13, 169), (14, 196), (15, 225), (16, 256), (17, 289), (18, 324), (19, 361), (20, 400), (21, 441), (22, 484), (23, 529), (24, 576), (25, 625), (26, 676), (27, 729), (28, 784), (29, 841)]\n"
     ]
    }
   ],
   "source": [
    "from multiprocessing import Pool\n",
    "import tqdm\n",
    "import time\n",
    "\n",
    "def _foo(my_number):\n",
    "    square = my_number * my_number\n",
    "    time.sleep(1)\n",
    "    print(os.getpid())\n",
    "    return my_number, square \n",
    "\n",
    "if __name__ == '__main__':\n",
    "    with Pool(2) as p:\n",
    "        r = list(tqdm.tqdm(p.imap(_foo, range(30), 4), total=30))\n",
    "        print(r)"
   ]
  },
  {
   "cell_type": "markdown",
   "metadata": {},
   "source": [
    "## pool.apply"
   ]
  },
  {
   "cell_type": "code",
   "execution_count": 4,
   "metadata": {
    "scrolled": true
   },
   "outputs": [
    {
     "name": "stdout",
     "output_type": "stream",
     "text": [
      "(0, 0)\n",
      "(1, 1)\n",
      "(2, 4)\n",
      "(3, 9)\n",
      "(4, 16)\n",
      "(5, 25)\n",
      "(6, 36)\n",
      "(7, 49)\n",
      "(8, 64)\n",
      "(9, 81)\n",
      "(10, 100)\n",
      "(11, 121)\n",
      "(12, 144)\n",
      "(13, 169)\n",
      "(14, 196)\n",
      "(15, 225)\n",
      "(16, 256)\n",
      "(17, 289)\n",
      "(18, 324)\n",
      "(19, 361)\n",
      "(20, 400)\n",
      "(21, 441)\n",
      "(22, 484)\n",
      "(23, 529)\n",
      "(24, 576)\n",
      "(25, 625)\n",
      "(26, 676)\n",
      "(27, 729)\n",
      "(28, 784)\n",
      "(29, 841)\n"
     ]
    }
   ],
   "source": [
    "with Pool(2) as p:\n",
    "    #r1 = list([p.apply(_foo, args=(x,)) for x in range(5)])\n",
    "    r1 = [p.apply(_foo, (x,)) for x in range(30)]\n",
    "# p.join()\n",
    "    for es in r1:\n",
    "        print(es)\n",
    "    "
   ]
  },
  {
   "cell_type": "markdown",
   "metadata": {},
   "source": [
    "## pool.apply_async"
   ]
  },
  {
   "cell_type": "code",
   "execution_count": 11,
   "metadata": {},
   "outputs": [
    {
     "name": "stdout",
     "output_type": "stream",
     "text": [
      "37460\n",
      "37459\n",
      "(0, 0)\n",
      "(1, 1)\n",
      "37460\n",
      "37459\n",
      "(2, 4)\n",
      "(3, 9)\n",
      "37459\n",
      "37460\n",
      "(4, 16)\n",
      "(5, 25)\n",
      "37459\n",
      "37460\n",
      "(6, 36)\n",
      "(7, 49)\n",
      "37459\n",
      "37460\n",
      "(8, 64)\n",
      "(9, 81)\n"
     ]
    }
   ],
   "source": [
    "with Pool(2) as p:\n",
    "    \n",
    "    r1 = [p.apply_async(_foo, args=(x,)) for x in range(10)]\n",
    "    #use .get to get the result.\n",
    "    for res in r1:\n",
    "        print(res.get())\n",
    "p.join()"
   ]
  },
  {
   "cell_type": "markdown",
   "metadata": {},
   "source": [
    "## mp. Process \n",
    "#### no return value"
   ]
  },
  {
   "cell_type": "code",
   "execution_count": 12,
   "metadata": {},
   "outputs": [
    {
     "name": "stdout",
     "output_type": "stream",
     "text": [
      "37480\n",
      "37481\n",
      "37482\n",
      "37483\n",
      "37484\n",
      "37486\n",
      "37487\n",
      "37488\n",
      "37490\n",
      "37489\n"
     ]
    }
   ],
   "source": [
    "res = [mp.Process(target=_foo, args=(x,)) for x in range(10)]\n",
    "for i in res:\n",
    "    i.start()\n",
    "i.join()\n",
    "\n"
   ]
  },
  {
   "cell_type": "markdown",
   "metadata": {},
   "source": [
    "## try new..."
   ]
  },
  {
   "cell_type": "code",
   "execution_count": 13,
   "metadata": {},
   "outputs": [],
   "source": [
    "from urllib.request import *\n",
    "from bs4 import *"
   ]
  },
  {
   "cell_type": "code",
   "execution_count": 14,
   "metadata": {},
   "outputs": [],
   "source": [
    "def GetNameFromURL(url):\n",
    "    content = urlopen(url).read()\n",
    "    soup = BeautifulSoup(content, features=\"lxml\")\n",
    "    print(url)\n",
    "    return_list = []\n",
    "    for j in soup.findAll('a'):\n",
    "        if any(i.isdigit() for i in j['href']):\n",
    "            return_list.append(j['href'])\n",
    "    time.sleep(1)\n",
    "    return return_list "
   ]
  },
  {
   "cell_type": "code",
   "execution_count": 15,
   "metadata": {},
   "outputs": [],
   "source": [
    "def PrintlistLen(one_line):\n",
    "    print(\"id: {}, second function: {}\".format(os.getpid(), one_line))"
   ]
  },
  {
   "cell_type": "code",
   "execution_count": 16,
   "metadata": {},
   "outputs": [],
   "source": [
    "url_list = ['https://nomads.ncdc.noaa.gov/data/ndfd/201311']"
   ]
  },
  {
   "cell_type": "markdown",
   "metadata": {},
   "source": [
    "### map, the result is to pay attention, second dimension"
   ]
  },
  {
   "cell_type": "code",
   "execution_count": 17,
   "metadata": {},
   "outputs": [
    {
     "name": "stdout",
     "output_type": "stream",
     "text": [
      "https://nomads.ncdc.noaa.gov/data/ndfd/201311\n",
      "['20131101/', '20131101/', '20131102/', '20131102/', '20131103/', '20131103/', '20131104/', '20131104/', '20131105/', '20131105/', '20131106/', '20131106/', '20131107/', '20131107/', '20131108/', '20131108/', '20131109/', '20131109/', '20131110/', '20131110/', '20131111/', '20131111/', '20131112/', '20131112/', '20131113/', '20131113/', '20131114/', '20131114/', '20131115/', '20131115/', '20131116/', '20131116/', '20131117/', '20131117/', '20131118/', '20131118/', '20131119/', '20131119/', '20131120/', '20131120/', '20131121/', '20131121/', '20131122/', '20131122/', '20131123/', '20131123/', '20131124/', '20131124/', '20131125/', '20131125/', '20131126/', '20131126/', '20131127/', '20131127/', '20131128/', '20131128/', '20131129/', '20131129/', '20131130/', '20131130/']\n",
      "20131101/\n",
      "20131101/\n",
      "20131102/\n",
      "20131102/\n",
      "20131103/\n",
      "20131103/\n",
      "20131104/\n",
      "20131104/\n",
      "20131105/\n",
      "20131105/\n",
      "20131106/\n",
      "20131106/\n",
      "20131107/\n",
      "20131107/\n",
      "20131108/\n",
      "20131108/\n",
      "20131109/\n",
      "20131109/\n",
      "20131110/\n",
      "20131110/\n",
      "20131111/\n",
      "20131111/\n",
      "20131112/\n",
      "20131112/\n",
      "20131113/\n",
      "20131113/\n",
      "20131114/\n",
      "20131114/\n",
      "20131115/\n",
      "20131115/\n",
      "20131116/\n",
      "20131116/\n",
      "20131117/\n",
      "20131117/\n",
      "20131118/\n",
      "20131118/\n",
      "20131119/\n",
      "20131119/\n",
      "20131120/\n",
      "20131120/\n",
      "20131121/\n",
      "20131121/\n",
      "20131122/\n",
      "20131122/\n",
      "20131123/\n",
      "20131123/\n",
      "20131124/\n",
      "20131124/\n",
      "20131125/\n",
      "20131125/\n",
      "20131126/\n",
      "20131126/\n",
      "20131127/\n",
      "20131127/\n",
      "20131128/\n",
      "20131128/\n",
      "20131129/\n",
      "20131129/\n",
      "20131130/\n",
      "20131130/\n"
     ]
    }
   ],
   "source": [
    "p = mp.Pool(2)\n",
    "#2 times list...pay attention!!!\n",
    "res = p.map(GetNameFromURL, (url_list))\n",
    "print(res[0])\n",
    "for re in res[0]:\n",
    "    print(re)"
   ]
  },
  {
   "cell_type": "markdown",
   "metadata": {},
   "source": [
    "### map after map, without pool.close() or pool.join()"
   ]
  },
  {
   "cell_type": "code",
   "execution_count": 18,
   "metadata": {},
   "outputs": [
    {
     "name": "stdout",
     "output_type": "stream",
     "text": [
      "https://nomads.ncdc.noaa.gov/data/ndfd/201311\n",
      "id: 37512, second function: 20131105/\n",
      "id: 37512, second function: 20131105/\n",
      "id: 37513, second function: 20131101/\n",
      "id: 37512, second function: 20131106/\n",
      "id: 37513, second function: 20131101/\n",
      "id: 37512, second function: 20131106/\n",
      "id: 37513, second function: 20131102/\n",
      "id: 37512, second function: 20131107/\n",
      "id: 37513, second function: 20131102/\n",
      "id: 37512, second function: 20131107/\n",
      "id: 37513, second function: 20131103/\n",
      "id: 37512, second function: 20131108/\n",
      "id: 37513, second function: 20131103/\n",
      "id: 37512, second function: 20131108/\n",
      "id: 37513, second function: 20131104/\n",
      "id: 37512, second function: 20131109/\n",
      "id: 37513, second function: 20131104/\n",
      "id: 37512, second function: 20131109/\n",
      "id: 37513, second function: 20131113/\n",
      "id: 37512, second function: 20131110/\n",
      "id: 37513, second function: 20131113/\n",
      "id: 37512, second function: 20131110/\n",
      "id: 37513, second function: 20131114/\n",
      "id: 37512, second function: 20131111/\n",
      "id: 37513, second function: 20131114/\n",
      "id: 37512, second function: 20131111/\n",
      "id: 37513, second function: 20131115/\n",
      "id: 37512, second function: 20131112/\n",
      "id: 37513, second function: 20131115/\n",
      "id: 37512, second function: 20131112/\n",
      "id: 37513, second function: 20131116/\n",
      "id: 37512, second function: 20131117/\n",
      "id: 37513, second function: 20131116/\n",
      "id: 37512, second function: 20131117/\n",
      "id: 37513, second function: 20131121/\n",
      "id: 37512, second function: 20131118/\n",
      "id: 37513, second function: 20131121/\n",
      "id: 37512, second function: 20131118/\n",
      "id: 37513, second function: 20131122/\n",
      "id: 37512, second function: 20131119/\n",
      "id: 37513, second function: 20131122/\n",
      "id: 37512, second function: 20131119/\n",
      "id: 37513, second function: 20131123/\n",
      "id: 37512, second function: 20131120/\n",
      "id: 37513, second function: 20131123/\n",
      "id: 37512, second function: 20131120/\n",
      "id: 37513, second function: 20131124/\n",
      "id: 37512, second function: 20131125/\n",
      "id: 37513, second function: 20131124/\n",
      "id: 37512, second function: 20131125/\n",
      "id: 37512, second function: 20131126/\n",
      "id: 37513, second function: 20131129/\n",
      "id: 37512, second function: 20131126/\n",
      "id: 37513, second function: 20131129/\n",
      "id: 37512, second function: 20131127/\n",
      "id: 37513, second function: 20131130/\n",
      "id: 37512, second function: 20131127/\n",
      "id: 37513, second function: 20131130/\n",
      "id: 37512, second function: 20131128/\n",
      "id: 37512, second function: 20131128/\n"
     ]
    }
   ],
   "source": [
    "p = mp.Pool(2)\n",
    "#2 times list...pay attention!!!\n",
    "res = p.map(GetNameFromURL, (url_list))\n",
    "#print(res[0][2])\n",
    "res_new = res[0]\n",
    "output = [p.map(PrintlistLen, res_new)]"
   ]
  },
  {
   "cell_type": "markdown",
   "metadata": {},
   "source": [
    "# map in map ???"
   ]
  },
  {
   "cell_type": "code",
   "execution_count": 24,
   "metadata": {},
   "outputs": [],
   "source": [
    "def GetNameFromURL_string(url):\n",
    "    content = urlopen(url).read()\n",
    "    soup = BeautifulSoup(content, features=\"lxml\")\n",
    "    print(url)\n",
    "    return_list = []\n",
    "    for j in soup.findAll('a'):\n",
    "        if any(i.isdigit() for i in j['href']):\n",
    "            return_list.append(j['href'])\n",
    "    time.sleep(1)\n",
    "    p.map(PrintlistLen2, return_list[0])\n",
    "    return return_list "
   ]
  },
  {
   "cell_type": "code",
   "execution_count": 25,
   "metadata": {},
   "outputs": [],
   "source": [
    "def PrintlistLen2(string):\n",
    "    time.sleep(1)\n",
    "    print(\"id: {}, second function: {}\".format(os.getpid(), one_line))"
   ]
  },
  {
   "cell_type": "code",
   "execution_count": 21,
   "metadata": {},
   "outputs": [],
   "source": [
    "p = mp.Pool(2)\n",
    "#res = p.map(GetNameFromURL_string, (url_list))\n"
   ]
  },
  {
   "cell_type": "markdown",
   "metadata": {},
   "source": [
    "## work with url list"
   ]
  },
  {
   "cell_type": "code",
   "execution_count": 22,
   "metadata": {},
   "outputs": [],
   "source": [
    "nw_url_list = ['https://nomads.ncdc.noaa.gov/data/ndfd/201311', 'https://nomads.ncdc.noaa.gov/data/ndfd/201314', \\\n",
    "              'https://nomads.ncdc.noaa.gov/data/ndfd/201320']"
   ]
  },
  {
   "cell_type": "code",
   "execution_count": 33,
   "metadata": {},
   "outputs": [
    {
     "name": "stdout",
     "output_type": "stream",
     "text": [
      "https://nomads.ncdc.noaa.gov/data/ndfd/201311\n"
     ]
    }
   ],
   "source": [
    "p = mp.Pool(2)\n",
    "#2 times list...pay attention!!!\n",
    "try:\n",
    "    res = p.map(GetNameFromURL, (nw_url_list))\n",
    "    #print(res[0][2])\n",
    "    res_new = res[0]\n",
    "    output = [p.map(PrintlistLen, res_new)]\n",
    "    p.close()\n",
    "    p.join()\n",
    "except:\n",
    "    p.terminate()\n",
    "    p.join()\n",
    "    #print(p.is_alive())"
   ]
  },
  {
   "cell_type": "code",
   "execution_count": 27,
   "metadata": {},
   "outputs": [],
   "source": []
  },
  {
   "cell_type": "code",
   "execution_count": null,
   "metadata": {},
   "outputs": [],
   "source": []
  },
  {
   "cell_type": "code",
   "execution_count": null,
   "metadata": {},
   "outputs": [],
   "source": []
  }
 ],
 "metadata": {
  "kernelspec": {
   "display_name": "Python 3",
   "language": "python",
   "name": "python3"
  },
  "language_info": {
   "codemirror_mode": {
    "name": "ipython",
    "version": 3
   },
   "file_extension": ".py",
   "mimetype": "text/x-python",
   "name": "python",
   "nbconvert_exporter": "python",
   "pygments_lexer": "ipython3",
   "version": "3.7.1"
  }
 },
 "nbformat": 4,
 "nbformat_minor": 2
}
