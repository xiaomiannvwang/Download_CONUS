{
 "cells": [
  {
   "cell_type": "code",
   "execution_count": 1,
   "metadata": {},
   "outputs": [],
   "source": [
    "from multiprocessing import Pool\n",
    "import multiprocessing\n",
    "import multiprocessing as mp\n",
    "from tqdm import tqdm\n",
    "import time\n",
    "import numpy as np\n",
    "from itertools import repeat\n",
    "from math import *\n",
    "import os"
   ]
  },
  {
   "cell_type": "markdown",
   "metadata": {},
   "source": [
    "## map and starmap"
   ]
  },
  {
   "cell_type": "code",
   "execution_count": 2,
   "metadata": {},
   "outputs": [],
   "source": [
    "def _foo(my_number1, my_number2, my_number3):\n",
    "    old_time = time.time()\n",
    "    square = my_number1 * my_number2\n",
    "#     res = square + my_number3\n",
    "#     res2 = 2*res\n",
    "    print(my_number2, my_number3)\n",
    "    time.sleep(1)\n",
    "    new_time = time.time()\n",
    "    #print('time difference is {:.2f}s'.format(new_time-old_time))\n",
    "    return my_number2"
   ]
  },
  {
   "cell_type": "code",
   "execution_count": 3,
   "metadata": {},
   "outputs": [],
   "source": [
    "def toString(number):\n",
    "    print('to sting {} is ok +:)'.format(number))"
   ]
  },
  {
   "cell_type": "code",
   "execution_count": 4,
   "metadata": {},
   "outputs": [],
   "source": [
    "def toString2(number, int_numb):\n",
    "    #print('to sting {} is ok +:)'.format(number))\n",
    "    #print('int_num {} is still the same'.format(int_numb))\n",
    "    return number, int_numb"
   ]
  },
  {
   "cell_type": "code",
   "execution_count": 5,
   "metadata": {},
   "outputs": [],
   "source": [
    "def update(*a):\n",
    "    pbar.update()"
   ]
  },
  {
   "cell_type": "markdown",
   "metadata": {},
   "source": [
    "### starmap_async"
   ]
  },
  {
   "cell_type": "markdown",
   "metadata": {},
   "source": [
    "#### with tqdm bar"
   ]
  },
  {
   "cell_type": "code",
   "execution_count": 6,
   "metadata": {},
   "outputs": [
    {
     "name": "stderr",
     "output_type": "stream",
     "text": [
      "\r",
      "  0%|          | 0/10 [00:00<?, ?it/s]"
     ]
    },
    {
     "name": "stdout",
     "output_type": "stream",
     "text": [
      "0 a\n",
      "2 a\n",
      "1 a\n",
      "3 a\n",
      "6 a\n",
      "4 a\n",
      "7 a\n",
      "5 a\n",
      "8 a\n",
      "0 a\n",
      "1 a\n",
      "9 a\n"
     ]
    },
    {
     "name": "stderr",
     "output_type": "stream",
     "text": [
      "\r",
      " 10%|█         | 1/10 [00:06<00:54,  6.06s/it]"
     ]
    },
    {
     "name": "stdout",
     "output_type": "stream",
     "text": [
      "4 a\n",
      "2 a\n",
      "3 a\n",
      "5 a\n",
      "8 a\n",
      "6 a\n",
      "9 a\n",
      "7 a\n",
      "0 a\n"
     ]
    },
    {
     "name": "stderr",
     "output_type": "stream",
     "text": [
      "\r",
      " 20%|██        | 2/10 [00:10<00:43,  5.44s/it]"
     ]
    },
    {
     "name": "stdout",
     "output_type": "stream",
     "text": [
      "2 a\n",
      "1 a\n",
      "3 a\n",
      "4 a\n",
      "6 a\n",
      "7 a\n",
      "5 a\n",
      "0 a\n",
      "8 a\n",
      "9 a\n",
      "1 a\n"
     ]
    },
    {
     "name": "stderr",
     "output_type": "stream",
     "text": [
      "\r",
      " 30%|███       | 3/10 [00:16<00:39,  5.62s/it]"
     ]
    },
    {
     "name": "stdout",
     "output_type": "stream",
     "text": [
      "2 a\n",
      "4 a\n",
      "3 a\n",
      "5 a\n",
      "6 a\n",
      "8 a\n",
      "7 a\n",
      "9 a\n"
     ]
    },
    {
     "name": "stderr",
     "output_type": "stream",
     "text": [
      "\r",
      " 40%|████      | 4/10 [00:20<00:30,  5.14s/it]"
     ]
    },
    {
     "name": "stdout",
     "output_type": "stream",
     "text": [
      "0 a\n",
      "2 a\n",
      "3 a\n",
      "1 a\n",
      "4 a\n",
      "6 a\n",
      "5 a\n",
      "7 a\n",
      "8 a\n",
      "0 a\n",
      "9 a\n",
      "1 a\n"
     ]
    },
    {
     "name": "stderr",
     "output_type": "stream",
     "text": [
      "\r",
      " 50%|█████     | 5/10 [00:26<00:27,  5.41s/it]"
     ]
    },
    {
     "name": "stdout",
     "output_type": "stream",
     "text": [
      "2 a\n",
      "4 a\n",
      "3 a\n",
      "5 a\n",
      "6 a\n",
      "8 a\n",
      "7 a\n",
      "9 a\n",
      "0 a\n"
     ]
    },
    {
     "name": "stderr",
     "output_type": "stream",
     "text": [
      "\r",
      " 60%|██████    | 6/10 [00:30<00:19,  5.00s/it]"
     ]
    },
    {
     "name": "stdout",
     "output_type": "stream",
     "text": [
      "2 a\n",
      "1 a\n",
      "3 a\n",
      "4 a\n",
      "6 a\n",
      "5 a\n",
      "7 a\n",
      "8 a\n",
      "0 a\n",
      "9 a\n",
      "1 a\n"
     ]
    },
    {
     "name": "stderr",
     "output_type": "stream",
     "text": [
      "\r",
      " 70%|███████   | 7/10 [00:36<00:15,  5.30s/it]"
     ]
    },
    {
     "name": "stdout",
     "output_type": "stream",
     "text": [
      "2 a\n",
      "4 a\n",
      "3 a\n",
      "5 a\n",
      "6 a\n",
      "8 a\n",
      "7 a\n",
      "9 a\n",
      "0 a\n"
     ]
    },
    {
     "name": "stderr",
     "output_type": "stream",
     "text": [
      "\r",
      " 80%|████████  | 8/10 [00:40<00:09,  4.92s/it]"
     ]
    },
    {
     "name": "stdout",
     "output_type": "stream",
     "text": [
      "2 a\n",
      "1 a\n",
      "3 a\n",
      "4 a\n",
      "6 a\n",
      "5 a\n",
      "7 a\n",
      "8 a\n",
      "0 a\n",
      "9 a\n",
      "1 a\n"
     ]
    },
    {
     "name": "stderr",
     "output_type": "stream",
     "text": [
      "\r",
      " 90%|█████████ | 9/10 [00:46<00:05,  5.25s/it]"
     ]
    },
    {
     "name": "stdout",
     "output_type": "stream",
     "text": [
      "2 a\n",
      "4 a\n",
      "5 a\n",
      "3 a\n",
      "6 a\n",
      "8 a\n",
      "9 a\n",
      "7 a\n"
     ]
    },
    {
     "name": "stderr",
     "output_type": "stream",
     "text": [
      "\r",
      "100%|██████████| 10/10 [00:50<00:00,  4.88s/it]"
     ]
    }
   ],
   "source": [
    "if __name__ == '__main__':\n",
    "    \n",
    "    pbar = tqdm(total=10)\n",
    "    pool = Pool(2)\n",
    "    for i in range(pbar.total):\n",
    "        pool.starmap_async(_foo, zip(repeat(1), range(pbar.total), repeat('a')), callback=update)   \n",
    "       "
   ]
  },
  {
   "cell_type": "code",
   "execution_count": null,
   "metadata": {},
   "outputs": [],
   "source": [
    "if __name__ == '__main__':\n",
    "    with Pool(2) as p:\n",
    "        r = p.starmap(_foo, (zip(repeat(1), list(range(5)), list(range(5)))), 4)\n",
    "for res in r:\n",
    "    print(res[0])"
   ]
  },
  {
   "cell_type": "code",
   "execution_count": null,
   "metadata": {},
   "outputs": [],
   "source": [
    "if __name__ == '__main__':\n",
    "   \n",
    "    with Pool(2) as p:\n",
    "        a1 = time.time()\n",
    "        r1 = p.starmap_async(_foo, (zip(repeat(1), list(range(100)), list(range(100)))))\n",
    "        results1 = r1.get()\n",
    "        b1 = time.time()\n",
    "        a2 = time.time()\n",
    "        r2= p.starmap_async(_foo, (zip(repeat(1), list(range(100)), list(range(100)))), 4)\n",
    "        results2 = r2.get()\n",
    "        b2 = time.time()\n",
    "    print(\"without chunksize time r1: {}\".format(b1-a1))\n",
    "    print(results1)\n",
    "    print(\"with chunksize time r2: {}\".format(b2-a2))\n",
    "    print(results2)\n",
    "#     p = [mp.Process(target=toString, args=(results[i],)) for i in range(len(results))]\n",
    "#     for pi in p:\n",
    "#         pi.start()\n",
    "#     for pi in p:\n",
    "#         pi.join()"
   ]
  },
  {
   "cell_type": "markdown",
   "metadata": {},
   "source": [
    "### starmap"
   ]
  },
  {
   "cell_type": "code",
   "execution_count": null,
   "metadata": {},
   "outputs": [],
   "source": [
    "if __name__ == '__main__':\n",
    "    with Pool(2) as p:\n",
    "        r = p.starmap(_foo, (zip(repeat(1), list(range(5)), list(range(5)))))\n",
    "\n",
    "    p = [mp.Process(target=toString2, args=(r[i], r[i])) for i in range(len(r))]\n",
    "    for pi in p:\n",
    "        pi.start()\n",
    "    for pi in p:\n",
    "        pi.join()\n",
    "    print(p)"
   ]
  },
  {
   "cell_type": "markdown",
   "metadata": {},
   "source": [
    "## tqdm and imap"
   ]
  },
  {
   "cell_type": "code",
   "execution_count": null,
   "metadata": {},
   "outputs": [],
   "source": [
    "from multiprocessing import Pool\n",
    "import tqdm\n",
    "import time\n",
    "\n",
    "def _foo(my_number):\n",
    "    square = my_number * my_number\n",
    "    time.sleep(1)\n",
    "    print(os.getpid())\n",
    "    return my_number, square \n",
    "\n",
    "if __name__ == '__main__':\n",
    "    with Pool(2) as p:\n",
    "        r = list(tqdm.tqdm(p.imap(_foo, range(30), 4), total=30))\n",
    "        print(r)"
   ]
  },
  {
   "cell_type": "markdown",
   "metadata": {},
   "source": [
    "## pool.apply"
   ]
  },
  {
   "cell_type": "code",
   "execution_count": null,
   "metadata": {
    "scrolled": true
   },
   "outputs": [],
   "source": [
    "with Pool(2) as p:\n",
    "    #r1 = list([p.apply(_foo, args=(x,)) for x in range(5)])\n",
    "    r1 = [p.apply(_foo, (x,)) for x in range(30)]\n",
    "# p.join()\n",
    "    for es in r1:\n",
    "        print(es)\n",
    "    "
   ]
  },
  {
   "cell_type": "markdown",
   "metadata": {},
   "source": [
    "## pool.apply_async"
   ]
  },
  {
   "cell_type": "code",
   "execution_count": null,
   "metadata": {},
   "outputs": [],
   "source": [
    "with Pool(2) as p:\n",
    "    \n",
    "    r1 = [p.apply_async(_foo, args=(x,)) for x in range(10)]\n",
    "    #use .get to get the result.\n",
    "    for res in r1:\n",
    "        print(res.get())\n",
    "p.join()"
   ]
  },
  {
   "cell_type": "markdown",
   "metadata": {},
   "source": [
    "## mp. Process \n",
    "#### no return value"
   ]
  },
  {
   "cell_type": "code",
   "execution_count": null,
   "metadata": {},
   "outputs": [],
   "source": [
    "res = [mp.Process(target=_foo, args=(x,)) for x in range(10)]\n",
    "for i in res:\n",
    "    i.start()\n",
    "i.join()\n",
    "\n"
   ]
  },
  {
   "cell_type": "markdown",
   "metadata": {},
   "source": [
    "## try new..."
   ]
  },
  {
   "cell_type": "code",
   "execution_count": null,
   "metadata": {},
   "outputs": [],
   "source": [
    "from urllib.request import *\n",
    "from bs4 import *"
   ]
  },
  {
   "cell_type": "code",
   "execution_count": null,
   "metadata": {},
   "outputs": [],
   "source": [
    "def GetNameFromURL(url):\n",
    "    content = urlopen(url).read()\n",
    "    soup = BeautifulSoup(content, features=\"lxml\")\n",
    "    print(url)\n",
    "    return_list = []\n",
    "    for j in soup.findAll('a'):\n",
    "        if any(i.isdigit() for i in j['href']):\n",
    "            return_list.append(j['href'])\n",
    "    time.sleep(1)\n",
    "    return return_list "
   ]
  },
  {
   "cell_type": "code",
   "execution_count": null,
   "metadata": {},
   "outputs": [],
   "source": [
    "def PrintlistLen(one_line):\n",
    "    print(\"id: {}, second function: {}\".format(os.getpid(), one_line))"
   ]
  },
  {
   "cell_type": "code",
   "execution_count": null,
   "metadata": {},
   "outputs": [],
   "source": [
    "url_list = ['https://nomads.ncdc.noaa.gov/data/ndfd/201311']"
   ]
  },
  {
   "cell_type": "markdown",
   "metadata": {},
   "source": [
    "### map, the result is to pay attention, second dimension"
   ]
  },
  {
   "cell_type": "code",
   "execution_count": null,
   "metadata": {},
   "outputs": [],
   "source": [
    "p = mp.Pool(2)\n",
    "#2 times list...pay attention!!!\n",
    "res = p.map(GetNameFromURL, (url_list))\n",
    "print(res[0])\n",
    "for re in res[0]:\n",
    "    print(re)"
   ]
  },
  {
   "cell_type": "markdown",
   "metadata": {},
   "source": [
    "### map after map, without pool.close() or pool.join()"
   ]
  },
  {
   "cell_type": "code",
   "execution_count": null,
   "metadata": {},
   "outputs": [],
   "source": [
    "p = mp.Pool(2)\n",
    "#2 times list...pay attention!!!\n",
    "res = p.map(GetNameFromURL, (url_list))\n",
    "#print(res[0][2])\n",
    "res_new = res[0]\n",
    "output = [p.map(PrintlistLen, res_new)]"
   ]
  },
  {
   "cell_type": "markdown",
   "metadata": {},
   "source": [
    "# map in map ???"
   ]
  },
  {
   "cell_type": "code",
   "execution_count": null,
   "metadata": {},
   "outputs": [],
   "source": [
    "def GetNameFromURL_string(url):\n",
    "    content = urlopen(url).read()\n",
    "    soup = BeautifulSoup(content, features=\"lxml\")\n",
    "    print(url)\n",
    "    return_list = []\n",
    "    for j in soup.findAll('a'):\n",
    "        if any(i.isdigit() for i in j['href']):\n",
    "            return_list.append(j['href'])\n",
    "    time.sleep(1)\n",
    "    p.map(PrintlistLen2, return_list[0])\n",
    "    return return_list "
   ]
  },
  {
   "cell_type": "code",
   "execution_count": null,
   "metadata": {},
   "outputs": [],
   "source": [
    "def PrintlistLen2(string):\n",
    "    time.sleep(1)\n",
    "    print(\"id: {}, second function: {}\".format(os.getpid(), one_line))"
   ]
  },
  {
   "cell_type": "code",
   "execution_count": null,
   "metadata": {},
   "outputs": [],
   "source": [
    "p = mp.Pool(2)\n",
    "#res = p.map(GetNameFromURL_string, (url_list))\n"
   ]
  },
  {
   "cell_type": "markdown",
   "metadata": {},
   "source": [
    "## work with url list"
   ]
  },
  {
   "cell_type": "code",
   "execution_count": null,
   "metadata": {},
   "outputs": [],
   "source": [
    "nw_url_list = ['https://nomads.ncdc.noaa.gov/data/ndfd/201311', 'https://nomads.ncdc.noaa.gov/data/ndfd/201314', \\\n",
    "              'https://nomads.ncdc.noaa.gov/data/ndfd/201320']"
   ]
  },
  {
   "cell_type": "code",
   "execution_count": null,
   "metadata": {},
   "outputs": [],
   "source": [
    "p = mp.Pool(2)\n",
    "#2 times list...pay attention!!!\n",
    "try:\n",
    "    res = p.map(GetNameFromURL, (nw_url_list))\n",
    "    #print(res[0][2])\n",
    "    res_new = res[0]\n",
    "    output = [p.map(PrintlistLen, res_new)]\n",
    "    p.close()\n",
    "    p.join()\n",
    "except:\n",
    "    p.terminate()\n",
    "    p.join()\n",
    "    #print(p.is_alive())"
   ]
  },
  {
   "cell_type": "code",
   "execution_count": null,
   "metadata": {},
   "outputs": [],
   "source": []
  },
  {
   "cell_type": "code",
   "execution_count": null,
   "metadata": {},
   "outputs": [],
   "source": []
  },
  {
   "cell_type": "code",
   "execution_count": null,
   "metadata": {},
   "outputs": [],
   "source": [
    "from operator import itemgetter\n",
    "from multiprocessing import Pool\n",
    "import wget\n",
    "\n",
    "\n",
    "def f(args):\n",
    "    print(args[1])\n",
    "    shutil.copy2(args[1], '/Users/sk/Downloads/jupyter_download/')\n",
    "\n",
    "if __name__ == \"__main__\":\n",
    "    urls = ['https://nomads.ncdc.noaa.gov/data/ndfd/201311', 'https://nomads.ncdc.noaa.gov/data/ndfd/201314', \\\n",
    "              'https://nomads.ncdc.noaa.gov/data/ndfd/201320']\n",
    "    a = Pool(2)\n",
    "    a.map(f, list(enumerate(urls))) #urls is a list of urls."
   ]
  },
  {
   "cell_type": "code",
   "execution_count": null,
   "metadata": {},
   "outputs": [],
   "source": [
    "from multiprocessing import Pool\n",
    "\n",
    "import shutil\n",
    "import requests\n",
    "\n",
    "\n",
    "def f(args):\n",
    "    print(args)\n",
    "    req = requests.get(args[1], stream=True)\n",
    "    with open('/Users/sk/Downloads/jupyter_download/' + str(args[0]), 'wb') as f:\n",
    "        shutil.copy2(req.raw, f)\n",
    "\n",
    "if __name__ == \"__main__\":\n",
    "    urls = ['https://nomads.ncdc.noaa.gov/data/ndfd/201501/LEEZ98_KWNS_201501011611', 'https://nomads.ncdc.noaa.gov/data/ndfd/201501/LEEZ98_KWNS_201501012010', \\\n",
    "              'https://nomads.ncdc.noaa.gov/data/ndfd/201501/LEEZ98_KWNS_201501012010']\n",
    "    a = Pool(2)\n",
    "    a.map(f, enumerate(urls))  # urls is a list of urls."
   ]
  },
  {
   "cell_type": "code",
   "execution_count": null,
   "metadata": {},
   "outputs": [],
   "source": [
    "from urllib.request import *\n",
    "from bs4 import *\n",
    "\n",
    "def Download(url, path):\n",
    "    content = urlopen(url).read()\n",
    "    soup_new = BeautifulSoup(content, features=\"lxml\")\n",
    "    for j in soup_new.findAll('a'):\n",
    "        if j['href'][:6] == 'LEEZ98':\n",
    "            file_url = url + j['href']\n",
    "            file_path_name = path + '/' + j['href'] + '.dms'\n",
    "            downloadfile = URLopener()\n",
    "            downloadfile.retrieve(file_url, file_path_name)"
   ]
  },
  {
   "cell_type": "code",
   "execution_count": null,
   "metadata": {},
   "outputs": [],
   "source": [
    "if __name__ == \"__main__\":\n",
    "    urls = ['https://nomads.ncdc.noaa.gov/data/ndfd/201501/20150101']\n",
    "    print(urls[0])\n",
    "    a = Pool(2)\n",
    "    path = \"/Users/sk/Downloads/jupyter_download/\"\n",
    "    r = [a.starmap(Download, zip(urls, path))] # urls is a list of urls."
   ]
  },
  {
   "cell_type": "code",
   "execution_count": null,
   "metadata": {},
   "outputs": [],
   "source": [
    "from datetime import datetime\n",
    "import time\n",
    "\n",
    "fmt = '%Y-%m-%d %H:%M:%S'\n",
    "d1 = datetime.strptime('2010-01-01 17:31:22', fmt)\n",
    "d2 = datetime.strptime('2010-01-03 20:15:14', fmt)\n",
    "\n",
    "diff = d2 - d1\n",
    "diff_minutes = (diff.days * 24 * 60) + (diff.seconds/60)\n",
    "\n",
    "print(diff_minutes)"
   ]
  },
  {
   "cell_type": "code",
   "execution_count": null,
   "metadata": {},
   "outputs": [],
   "source": []
  }
 ],
 "metadata": {
  "kernelspec": {
   "display_name": "Python 3",
   "language": "python",
   "name": "python3"
  },
  "language_info": {
   "codemirror_mode": {
    "name": "ipython",
    "version": 3
   },
   "file_extension": ".py",
   "mimetype": "text/x-python",
   "name": "python",
   "nbconvert_exporter": "python",
   "pygments_lexer": "ipython3",
   "version": "3.7.1"
  }
 },
 "nbformat": 4,
 "nbformat_minor": 2
}
